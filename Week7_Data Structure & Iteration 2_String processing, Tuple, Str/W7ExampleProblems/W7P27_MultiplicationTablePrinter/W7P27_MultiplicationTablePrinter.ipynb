{
 "cells": [
  {
   "cell_type": "markdown",
   "metadata": {},
   "source": [
    "# <span style='font-family:Times New Roman'> WEEK 7 - PROBLEM 27: Multiplication Table Printer\n",
    "<hr>\n",
    "<br>\n",
    "    \n",
    "### <span style='font-family:Times New Roman'> Description\n",
    "```Bash\n",
    "구구단을 출력하는 함수 print_multiplication_table()을 작성하시오.\n",
    "\n",
    "주의: 중첩 반복문(nested for loop statement)을 이용해서 작성할 것print_multiplication_table외 다른 함수는 만든지 말 것.\n",
    "```\n",
    "<br>\n",
    "\n",
    "> ##### <li> <span style='font-family:Times New Roman'> 함수의 동작 </li>\n",
    "```Bash\n",
    "구구단을 출력\n",
    "   - 각 단의 숫자 사이에는 빈칸이 1개 있어야하며, 마지막 숫자 뒤에는 빈칸이 없음.\n",
    "   - 각 단은 for loop를 이용해서 작성해야 하며, 각 단이 출력된 뒤에는 줄바꿈 함.\n",
    "```\n",
    "\n",
    "> ##### <li> <span style='font-family:Times New Roman'> 매개변수 </li>\n",
    "```Bash\n",
    "없음.\n",
    "```\n",
    "    \n",
    "> ##### <li> <span style='font-family:Times New Roman'> 반환값 </li>\n",
    "```Bash\n",
    "없음(None)\n",
    "```\n",
    "<hr>\n",
    "<br>\n",
    "    \n",
    "### <span style='font-family:Georgia'> Function usage example\n",
    "```Bash\n",
    "print_multiplication_table()\n",
    "```\n",
    "<hr>\n",
    "<br>\n",
    "\n",
    "### <span style='font-family:Georgia'> Function Running Example\n",
    "```Bash\n",
    "1 2 3 4 5 6 7 8 9\n",
    "2 4 6 8 10 12 14 16 18\n",
    "3 6 9 12 15 18 21 24 27\n",
    "4 8 12 16 20 24 28 32 36\n",
    "5 10 15 20 25 30 35 40 45\n",
    "6 12 18 24 30 36 42 48 54\n",
    "7 14 21 28 35 42 49 56 63\n",
    "8 16 24 32 40 48 56 64 72\n",
    "9 18 27 36 45 54 63 72 81\n",
    "```"
   ]
  },
  {
   "cell_type": "code",
   "execution_count": null,
   "metadata": {},
   "outputs": [],
   "source": [
    "# Answer of Problem \n",
    "def print_multiplication_table():\n",
    "      for left_number in range(1, 10):\n",
    "        for right_number in range(1, 10):\n",
    "            print(left_number*right_number, end='')\n",
    "            if right_number == 9:\n",
    "                print('')\n",
    "            else:\n",
    "                print(' ', end='')\n",
    "\n",
    "print_multiplication_table()"
   ]
  }
 ],
 "metadata": {
  "kernelspec": {
   "display_name": "Python 3",
   "language": "python",
   "name": "python3"
  },
  "language_info": {
   "codemirror_mode": {
    "name": "ipython",
    "version": 3
   },
   "file_extension": ".py",
   "mimetype": "text/x-python",
   "name": "python",
   "nbconvert_exporter": "python",
   "pygments_lexer": "ipython3",
   "version": "3.7.4"
  }
 },
 "nbformat": 4,
 "nbformat_minor": 2
}
