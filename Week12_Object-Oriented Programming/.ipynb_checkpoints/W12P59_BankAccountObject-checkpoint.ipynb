{
 "cells": [
  {
   "cell_type": "markdown",
   "metadata": {},
   "source": [
    "# <span style='font-family:Times New Roman'> WEEK 12 - PROBLEM 59: Bank Account Object\n",
    "<hr>\n",
    "<br>\n",
    "    \n",
    "### <span style='font-family:Times New Roman'> Description\n",
    "```Bash\n",
    "실습된 사용한 클래스 BankAccount(아래 코드 참조)에 withdraw(amount)와 deposit(amount)함수를 만드시오.\n",
    "\n",
    "withdraw(amount) : 매개변수로 출금액을 받아서 instance variable balance에서 amount만큼 빼고 반환값은 없음\n",
    "\n",
    "deposit(amount) : 매개변수로 입금액을 받아서 instance variable balance에서 amount만큼 더하고 반환값은 없음\n",
    "```\n",
    "```Bash\n",
    "참고 아래 클래스를 확장하여 사용할 것\n",
    "\n",
    "class BankAccount():\n",
    "    def __init__(self, balance=0):\n",
    "        self.balance = balance\n",
    "    def balance(self):\n",
    "        return self.balance\n",
    "```\n",
    "<hr>\n",
    "<br>\n",
    "\n",
    "### <span style='font-family:Georgia'> Function Usage Example\n",
    "```Bash\n",
    "b1 = BankAccount(500)\n",
    "b2 = BankAccount(2000)\n",
    "b1.withdraw(400)\n",
    "print(b1.balance())\n",
    "b2.deposit(1000)\n",
    "print(b2.balance())\n",
    "b2.withdraw(5000)\n",
    "print(b2.balance())\n",
    "```\n",
    "<hr>\n",
    "<br>\n",
    "\n",
    "### <span style='font-family:Georgia'> Function Running Example\n",
    "```Bash\n",
    "100\n",
    "3000\n",
    "-2000\n",
    "```"
   ]
  },
  {
   "cell_type": "code",
   "execution_count": null,
   "metadata": {},
   "outputs": [],
   "source": [
    "# Answer of Problem \n",
    "class BankAccount():\n",
    "    def __init__(self, balance=0):\n",
    "        self.balance = balance\n",
    "\n",
    "    def withdraw(self, amount):\n",
    "        self.balance-=amount\n",
    "        return self.balance\n",
    "\n",
    "    def deposit(self, amount):\n",
    "        self.balance+=amount\n",
    "        return self.balance\n",
    "\n",
    "    def getBalance(self):\n",
    "        return self.balance\n",
    "\n",
    "if __name__ == '__main__':\n",
    "    b1 = BankAccount(500)\n",
    "    b2 = BankAccount(2000)\n",
    "    b1.withdraw(400)\n",
    "    print(b1.getBalance())\n",
    "    b2.deposit(1000)\n",
    "    print(b2.getBalance())\n",
    "    b2.withdraw(5000)\n",
    "    print(b2.getBalance())\n"
   ]
  }
 ],
 "metadata": {
  "kernelspec": {
   "display_name": "Python 3",
   "language": "python",
   "name": "python3"
  },
  "language_info": {
   "codemirror_mode": {
    "name": "ipython",
    "version": 3
   },
   "file_extension": ".py",
   "mimetype": "text/x-python",
   "name": "python",
   "nbconvert_exporter": "python",
   "pygments_lexer": "ipython3",
   "version": "3.7.4"
  }
 },
 "nbformat": 4,
 "nbformat_minor": 2
}
