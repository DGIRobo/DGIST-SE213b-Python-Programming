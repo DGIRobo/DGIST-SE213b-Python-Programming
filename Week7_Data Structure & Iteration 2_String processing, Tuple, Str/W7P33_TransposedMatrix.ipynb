{
 "cells": [
  {
   "cell_type": "markdown",
   "metadata": {},
   "source": [
    "# <span style='font-family:Times New Roman'> WEEK 7 - PROBLEM 33: Transposed matrix\n",
    "<hr>\n",
    "<br>\n",
    "    \n",
    "### <span style='font-family:Times New Roman'> Description\n",
    "```Bash\n",
    "함수에 전달되는 m x n matrix에 대해서 transposed matrix (n x m)를 반환하는 함수 TP(mat)를 구현하시오.\n",
    "```\n",
    "<br>\n",
    "\n",
    "> ##### <li> <span style='font-family:Times New Roman'> 함수의 동작 </li>\n",
    "```Bash\n",
    "m x n 를 nested list의 형태로 입력 받음\n",
    "행렬의 행과 열을 전치하여 n x m 형태의 nested list를 반환\n",
    "```\n",
    "\n",
    "> ##### <li> <span style='font-family:Times New Roman'> 매개변수 </li>\n",
    "```Bash\n",
    "mat:(nested list) n개로 이루어진 list가 m개 들어있는 리스트\n",
    "```\n",
    "    \n",
    "> ##### <li> <span style='font-family:Times New Roman'> 반환값 </li>\n",
    "```Bash\n",
    "(nested list) m개로 이루어진 list가 n개 들어있는 리스트\n",
    "   - k 행이 k열로 전치 된 행렬\n",
    "```\n",
    "<hr>\n",
    "<br>\n",
    "    \n",
    "### <span style='font-family:Georgia'> Function usage example\n",
    "```Bash\n",
    "v1 = [ [1, 2, 3, 4],\n",
    "       [5, 6, 7, 8],\n",
    "       [9, 10, 11, 12] ]\n",
    "print(TP(v1))\n",
    "```\n",
    "<hr>\n",
    "<br>\n",
    "\n",
    "### <span style='font-family:Georgia'> Function Running Example\n",
    "```Bash\n",
    "[ [1, 5, 9], [2, 6, 10], [3, 7, 11], [4, 8, 12]]\n",
    "```"
   ]
  },
  {
   "cell_type": "code",
   "execution_count": null,
   "metadata": {},
   "outputs": [],
   "source": [
    "# Answer of Problem \n",
    "def TP(mat) :\n",
    "    TP_matrix=[]\n",
    "    for column in range(len(mat[0])): #column의 수만큼 row(리스트 안의 리스트)만들기.\n",
    "        TP_matrix.append([])\n",
    "    for column in range(len(mat[0])): #TP_matrix의 row를 각각 확인함.\n",
    "        for row in range(len(mat)): #TP_matrix의 각 row의 column을 각각 확인해서 해당하는 수를 mat에서 찾아 넣음.\n",
    "            TP_matrix[column].append(mat [row][column])\n",
    "    return TP_matrix\n",
    "\n",
    "v1 = [   [1, 2, 3, 4],\n",
    "             [5, 6, 7, 8],\n",
    "             [9, 10, 11, 12] ]\n",
    "print(TP(v1))\n"
   ]
  }
 ],
 "metadata": {
  "kernelspec": {
   "display_name": "Python 3",
   "language": "python",
   "name": "python3"
  },
  "language_info": {
   "codemirror_mode": {
    "name": "ipython",
    "version": 3
   },
   "file_extension": ".py",
   "mimetype": "text/x-python",
   "name": "python",
   "nbconvert_exporter": "python",
   "pygments_lexer": "ipython3",
   "version": "3.7.4"
  }
 },
 "nbformat": 4,
 "nbformat_minor": 2
}
