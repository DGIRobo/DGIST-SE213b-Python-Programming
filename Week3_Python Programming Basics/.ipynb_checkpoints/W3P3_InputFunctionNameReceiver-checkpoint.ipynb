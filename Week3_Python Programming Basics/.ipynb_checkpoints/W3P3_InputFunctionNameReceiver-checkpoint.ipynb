{
 "cells": [
  {
   "cell_type": "markdown",
   "metadata": {},
   "source": [
    "# <span style='font-family:Times New Roman'> WEEK 3 - PROBLEM 3: First name, Last name Reciver  \n",
    "<hr>\n",
    "<br>\n",
    "    \n",
    "### <span style='font-family:Times New Roman'> Description\n",
    "```Bash\n",
    "사용자에게 성과 이름을 입력받아, 아래와 같은 형식으로 출력하는 프로그램을 작성할 것.\n",
    "\n",
    "- 이름, 성\n",
    "- 성, 이름\n",
    "```\n",
    "<hr>\n",
    "<br>\n",
    "\n",
    "### <span style='font-family:Georgia'> Code Running Example\n",
    "```Bash\n",
    "Enter your last name: Bond\n",
    "Enter your first name: James\n",
    "James Bond\n",
    "Bond , James\n",
    "```"
   ]
  },
  {
   "cell_type": "code",
   "execution_count": null,
   "metadata": {},
   "outputs": [],
   "source": [
    "# Answer of Problem \n",
    "last_name = str(input('Enter your last name: '))\n",
    "first_name = str(input('\\nEnter your first name: '))\n",
    "print('\\n',first_name, last_name)\n",
    "print(last_name ,',', first_name)"
   ]
  }
 ],
 "metadata": {
  "kernelspec": {
   "display_name": "Python 3",
   "language": "python",
   "name": "python3"
  },
  "language_info": {
   "codemirror_mode": {
    "name": "ipython",
    "version": 3
   },
   "file_extension": ".py",
   "mimetype": "text/x-python",
   "name": "python",
   "nbconvert_exporter": "python",
   "pygments_lexer": "ipython3",
   "version": "3.7.4"
  }
 },
 "nbformat": 4,
 "nbformat_minor": 2
}
