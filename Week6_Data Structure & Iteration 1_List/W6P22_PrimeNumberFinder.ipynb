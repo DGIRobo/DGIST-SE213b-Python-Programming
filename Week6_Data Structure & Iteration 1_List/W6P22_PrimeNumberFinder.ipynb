{
 "cells": [
  {
   "cell_type": "markdown",
   "metadata": {},
   "source": [
    "# <span style='font-family:Times New Roman'> WEEK 6 - PROBLEM 22: Prime Number Finder\n",
    "<hr>\n",
    "<br>\n",
    "    \n",
    "### <span style='font-family:Times New Roman'> Description\n",
    "```Bash\n",
    "함수 prime_number(number) 를 작성할 것.\n",
    "```\n",
    "<br>\n",
    "\n",
    "> ##### <li> <span style='font-family:Times New Roman'> 함수의 동작 </li>\n",
    "```Bash\n",
    "2부터 number 사이의 소수를 출력하시오. (소수는 1과 자기 자신만으로 나누어 떨어지는 1보다 큰 양의 정수)\n",
    "```\n",
    "\n",
    "> ##### <li> <span style='font-family:Times New Roman'> 매개변수 </li>\n",
    "```Bash\n",
    "number: (int) 소수를 출력하기 위한 최대 범위 설정 값n: (int) 출력할 줄 수\n",
    "```\n",
    "    \n",
    "> ##### <li> <span style='font-family:Times New Roman'> 반환값 </li>\n",
    "```Bash\n",
    "없음(None)\n",
    "```\n",
    "<hr>\n",
    "<br>\n",
    "    \n",
    "### <span style='font-family:Georgia'> Function usage example\n",
    "```Bash\n",
    "prime_number(2)\n",
    "prime_number(20)\n",
    "```\n",
    "<hr>\n",
    "<br>\n",
    "\n",
    "### <span style='font-family:Georgia'> Function Running Example\n",
    "```Bash\n",
    "2\n",
    "235711131719\n",
    "```"
   ]
  },
  {
   "cell_type": "code",
   "execution_count": null,
   "metadata": {},
   "outputs": [],
   "source": [
    "# Answer of Problem \n",
    "def prime_number(number):\n",
    "    for numbering in range(2, number+1):\n",
    "        counting = []\n",
    "        for checking in range(2, number+1):\n",
    "            if numbering%checking == 0:\n",
    "                counting.append(checking)\n",
    "        if len(counting)==1:\n",
    "            print(numbering, end='')\n",
    "    print('')\n",
    "\n",
    "prime_number(2)\n",
    "prime_number(20)"
   ]
  }
 ],
 "metadata": {
  "kernelspec": {
   "display_name": "Python 3",
   "language": "python",
   "name": "python3"
  },
  "language_info": {
   "codemirror_mode": {
    "name": "ipython",
    "version": 3
   },
   "file_extension": ".py",
   "mimetype": "text/x-python",
   "name": "python",
   "nbconvert_exporter": "python",
   "pygments_lexer": "ipython3",
   "version": "3.7.4"
  }
 },
 "nbformat": 4,
 "nbformat_minor": 2
}
