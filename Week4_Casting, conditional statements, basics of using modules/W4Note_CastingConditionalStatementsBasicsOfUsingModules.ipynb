{
 "cells": [
  {
   "cell_type": "markdown",
   "id": "42388bf4",
   "metadata": {},
   "source": [
    "<h1>Ⅲ. 형변환, 조건문, 모듈 사용의 기초</h1>\n",
    "<ul><ul>\n",
    "</ul></ul>\n",
    "<br>\n",
    "<hr>"
   ]
  }
 ],
 "metadata": {
  "kernelspec": {
   "display_name": "Python 3 (ipykernel)",
   "language": "python",
   "name": "python3"
  },
  "language_info": {
   "codemirror_mode": {
    "name": "ipython",
    "version": 3
   },
   "file_extension": ".py",
   "mimetype": "text/x-python",
   "name": "python",
   "nbconvert_exporter": "python",
   "pygments_lexer": "ipython3",
   "version": "3.9.12"
  }
 },
 "nbformat": 4,
 "nbformat_minor": 5
}
