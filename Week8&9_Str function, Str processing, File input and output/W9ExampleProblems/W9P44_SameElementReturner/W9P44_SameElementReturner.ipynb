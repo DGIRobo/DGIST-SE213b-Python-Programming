{
 "cells": [
  {
   "cell_type": "markdown",
   "metadata": {},
   "source": [
    "# <span style='font-family:Times New Roman'> WEEK 9 - PROBLEM 44: Same Element Returner  \n",
    "<hr>\n",
    "<br>\n",
    "    \n",
    "### <span style='font-family:Times New Roman'> Description\n",
    "```Bash\n",
    "학생들의 이름을 원소로 갖는 list인 'name_list'를 인자로 받아 해당 list 내에 동명이인이 있는지 확인하고, 동명이인이 있는 경우 해당 학생들의 이름을 리스트 형태로 만들어 반환하는 함수 same_name(name_list)를 작성할 것. 가능한 한 수업시간에 배운 dictionary를 사용할 것을 권장함.\n",
    "```\n",
    "<br>\n",
    "\n",
    "> ##### <li> <span style='font-family:Times New Roman'> 함수동작 </li>\n",
    "```Bash\n",
    "name_list에서 동명인 사람을 찾아서 리스트로 반환함\n",
    "```\n",
    "    \n",
    "> ##### <li> <span style='font-family:Times New Roman'> 매개변수 </li>\n",
    "```Bash\n",
    "name_list : 학생들의 이름을 원소로 가지는 리스트\n",
    "```\n",
    "    \n",
    "> ##### <li> <span style='font-family:Times New Roman'> 반환값 </li>\n",
    "```Bash\n",
    "동명이인이 있는 경우: 해당 학생들의 이름을 list형태로 반환\n",
    "동명이인이 없는 경우: \"There is no student having the same name.\" 문자를 반환\n",
    "```\n",
    "<hr>\n",
    "<br>\n",
    "\n",
    "### <span style='font-family:Georgia'> Function Usage Example\n",
    "```Bash\n",
    "list1=['Alice','Bob','Jane']\n",
    "list2=['Alice','Bob','Jane','Tom','Bob','Tom']\n",
    "print(same_name(list1))\n",
    "print(same_name(list2))\n",
    "```\n",
    "<hr>\n",
    "<br>\n",
    "\n",
    "### <span style='font-family:Georgia'> Function Running Example\n",
    "```Bash\n",
    "There is no student having the same name.\n",
    "['Bob', 'Tom']\n",
    "```"
   ]
  },
  {
   "cell_type": "code",
   "execution_count": null,
   "metadata": {},
   "outputs": [],
   "source": [
    "# Answer of Problem \n",
    "def same_name(name_list):\n",
    "    name_count = {}\n",
    "    same_name = []\n",
    "    for name in name_list:\n",
    "        name_count[name] = name_count.get(name, 0) + 1\n",
    "    for item in name_count:\n",
    "        if name_count.get(item) >= 2:\n",
    "            same_name.append(item)\n",
    "    if len(same_name) != 0:\n",
    "        return same_name\n",
    "    else: return 'There is no student having the same name.'\n",
    "\n",
    "\n",
    "list1=['Alice','Bob','Jane']\n",
    "list2=['Alice','Bob','Jane','Tom','Bob','Tom']\n",
    "\n",
    "print(same_name(list1))\n",
    "print(same_name(list2))\n"
   ]
  }
 ],
 "metadata": {
  "kernelspec": {
   "display_name": "Python 3",
   "language": "python",
   "name": "python3"
  },
  "language_info": {
   "codemirror_mode": {
    "name": "ipython",
    "version": 3
   },
   "file_extension": ".py",
   "mimetype": "text/x-python",
   "name": "python",
   "nbconvert_exporter": "python",
   "pygments_lexer": "ipython3",
   "version": "3.7.4"
  }
 },
 "nbformat": 4,
 "nbformat_minor": 2
}
