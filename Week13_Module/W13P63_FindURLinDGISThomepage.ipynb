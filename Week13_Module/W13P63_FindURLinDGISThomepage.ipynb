{
 "cells": [
  {
   "cell_type": "markdown",
   "metadata": {},
   "source": [
    "# <span style='font-family:Times New Roman'> WEEK 13 - PROBLEM 63: Find URL in DGIST homepage\n",
    "<hr>\n",
    "<br>\n",
    "    \n",
    "### <span style='font-family:Times New Roman'> Description\n",
    "```Bash\n",
    "DGIST 홈페이지에서 e-mail 주소와 dgist.ac.kr/로 시작되는 모든 url을 가져오는 함수를 작성하시오.\n",
    "e-mail 주소는 앞의 문제에서 풀었던 코드를 그대로 가져와서 getEmailAddr(txt)로 사용하고,\n",
    "여기서는 getURL(txt)를 작성하시오.\n",
    "```\n",
    "<hr>\n",
    "<br>\n",
    "\n",
    "### <span style='font-family:Georgia'> getURL(txt) 함수\n",
    "<br>\n",
    "\n",
    "> ##### <li> <span style='font-family:Georgia'> 매개변수 </li>\n",
    "```Bash\n",
    "txt: dgist.ac.kr 홈페이지의 첫 페이지의 문자열\n",
    "```\n",
    "\n",
    "> ##### <li> <span style='font-family:Georgia'> 반환값 </li>\n",
    "```Bash\n",
    "dgist.ac.kr/로 시작되는 모든 url\n",
    "dgist.ac.kr/ 이하는 /, _, . 과 숫자, 문자로 이루어져 있음\n",
    "```\n",
    "\n",
    "> ##### <li> <span style='font-family:Georgia'> 함수의 동작 </li>\n",
    "```Bash\n",
    "txt문자열에 포함되어 있는 dgist.ac.kr/ 로 시작되는 모든 url주소를 리스트로 반환\n",
    "```\n",
    "<hr>\n",
    "<br>\n",
    "\n",
    "### <span style='font-family:Georgia'> Function Usage Example\n",
    "```Bash\n",
    "with urlopen(\"https://www.dgist.ac.kr/kr/\") as u :\n",
    "    dgist = u.read().decode(\"utf-8\")\n",
    "print(getEmailAddr(dgist))\n",
    "print(getURL(dgist))\n",
    "```\n",
    "<hr>\n",
    "<br>\n",
    "\n",
    "### <span style='font-family:Georgia'> Function Running Example\n",
    "```Bash\n",
    "['webmaster@dgist.ac.kr', 'webmaster@dgist.ac.kr']\n",
    "['dgist.ac.kr/common/img/common/og_img.png', 'dgist.ac.kr/kr/', 'dgist.ac.kr/search.do', 'dgist.ac.kr/site/cyber/tour/', 'dgist.ac.kr/giving/', 'dgist.ac.kr/adm/', 'dgist.ac.kr/gadm/', 'dgist.ac.kr/iadm/', 'dgist.ac.kr/', 'dgist.ac.kr/home.do', 'dgist.ac.kr/ucs/ucsqProfRespSbjtInq/index.do', 'dgist.ac.kr/', 'dgist.ac.kr/', 'dgist.ac.kr/sub01/sub01.php', 'dgist.ac.kr/site/cyber/tour/', 'dgist.ac.kr/giving/', 'dgist.ac.kr/adm/', 'dgist.ac.kr/gadm/', 'dgist.ac.kr/iadm/', 'dgist.ac.kr/', 'dgist.ac.kr/home.do', 'dgist.ac.kr/ucs/ucsqProfRespSbjtInq/index.do', 'dgist.ac.kr/', 'dgist.ac.kr/', 'dgist.ac.kr/sub01/sub01.php', 'dgist.ac.kr/kr/html/sub06/060101.html', 'dgist.ac.kr/kr/html/sub06/060101.html', 'dgist.ac.kr/kr/html/sub06/060101.html', 'dgist.ac.kr/kr/html/sub06/060101.html', 'dgist.ac.kr/kr/html/sub06/060101.html', 'dgist.ac.kr/kr/html/sub05/050106.html', 'dgist.ac.kr/kr/html/sub05/050101.html', 'dgist.ac.kr/kr/html/sub05/050102.html', 'dgist.ac.kr/kr/html/sub05/050102.html', 'dgist.ac.kr/kr/html/sub05/050101.html', 'dgist.ac.kr/kr/html/sub05/050101.html', 'dgist.ac.kr/kr/html/sub05/050101.html', 'dgist.ac.kr/kr/html/sub05/050101.html', 'dgist.ac.kr/kr/html/sub05/050104.html', 'dgist.ac.kr/kr/html/sub05/050104.html', 'dgist.ac.kr/kr/html/sub05/050104.html', 'dgist.ac.kr/kr/html/sub05/050104.html', 'dgist.ac.kr/kr/html/sub05/050108.html', 'dgist.ac.kr/kr/html/sub05/050108.html', 'dgist.ac.kr/kr/html/sub05/050108.html', 'dgist.ac.kr/kr/html/sub05/050108.html', 'dgist.ac.kr/kr/html/sub05/050106.html', 'dgist.ac.kr/kr/html/sub05/050106.html', 'dgist.ac.kr/kr/html/sub05/050106.html', 'dgist.ac.kr/kr/html/sub05/050106.html', 'dgist.ac.kr/index.html', 'dgist.ac.kr/', 'dgist.ac.kr/site/dgist_library/menu/747.do', 'dgist.ac.kr/home\n",
    "```"
   ]
  },
  {
   "cell_type": "code",
   "execution_count": null,
   "metadata": {},
   "outputs": [],
   "source": [
    "# Answer of Problem \n",
    "from urllib.request import urlopen\n",
    "import re\n",
    "\n",
    "def getEmailAddr(txt):\n",
    "    \"\"\"return the list of e-mails from the txt\"\"\"\n",
    "    emails = re.findall('[a-zA-Z0-9]{1,}@[a-z]{1,}[.]{1}[a-z.]{1,}', txt)\n",
    "    return emails\n",
    "\n",
    "def getURL(txt):\n",
    "    \"\"\"return the list of urls starting with 'dgist.ac.kr/' from the txt\"\"\"\n",
    "    URLs = re.findall('dgist.ac.kr/[ /_.a-zA-Z0-9]{0,}', txt)\n",
    "    return URLs\n",
    "\n",
    "if __name__ == '__main__':\n",
    "    with urlopen(\"https://www.dgist.ac.kr/kr/\") as u :\n",
    "        dgist = u.read().decode(\"utf-8\")\n",
    "    print(getEmailAddr(dgist))\n",
    "    print(getURL(dgist))\n"
   ]
  }
 ],
 "metadata": {
  "kernelspec": {
   "display_name": "Python 3",
   "language": "python",
   "name": "python3"
  },
  "language_info": {
   "codemirror_mode": {
    "name": "ipython",
    "version": 3
   },
   "file_extension": ".py",
   "mimetype": "text/x-python",
   "name": "python",
   "nbconvert_exporter": "python",
   "pygments_lexer": "ipython3",
   "version": "3.7.4"
  }
 },
 "nbformat": 4,
 "nbformat_minor": 2
}
