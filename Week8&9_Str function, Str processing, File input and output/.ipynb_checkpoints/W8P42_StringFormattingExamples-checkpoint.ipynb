{
 "cells": [
  {
   "cell_type": "markdown",
   "metadata": {},
   "source": [
    "# <span style='font-family:Times New Roman'> WEEK 8 - PROBLEM 42: String Formatting Examples\n",
    "<hr>\n",
    "<br>\n",
    "    \n",
    "### <span style='font-family:Times New Roman'> Description\n",
    "```Bash\n",
    "String Formatting\n",
    "```"
   ]
  },
  {
   "cell_type": "code",
   "execution_count": null,
   "metadata": {},
   "outputs": [],
   "source": [
    "# Examples\n",
    "n = 42\n",
    "f = 42.195\n",
    "s = 'string cheese'\n",
    "pi = 3.1415926535897932384626433832795028841971693\n",
    "\n",
    "# 기본 사용. fieldname을 생략하면 순서대로 인자 사용\n",
    "print('{} {} {}'.format(n, f, s))\n",
    "# {} 이외의 부분은 문자열 그대로\n",
    "print('The first argument is {}'.format(n))\n",
    "\n",
    "print('{2} {0} {1}'.format(n, f, s)) # 인자 순서를 숫자로 지정\n",
    "print('{0} is {0}'.format(n))        # 같은 인자를 여러 번 사용\n",
    "# 이름을 이용해 인자지정\n",
    "print('{integer} {realnumber} {string}'.format(integer=n,\n",
    "                                               realnumber=f,\n",
    "                                               string=s))\n",
    "# 인자의 자료형 지정\n",
    "# d: 정수, f: 실수, s: 문자열\n",
    "# g: general format. 아주 크거나 작으면 지수로 표현\n",
    "#    아니면 실수로 표현, 단 소수점 이하의 0은 생략\n",
    "print('{:d} {:f} {:s}'.format(n, f, s))\n",
    "print('{0:d} {0:f} {0:g}'.format(n))  # 정수를 실수로는 변환 가능\n",
    "print('{0:f} {0:g}'.format(f))        # g를 사용하면 조금 더 보기편한 숫자를 표시함\n",
    "#print('{0:d}'.format(f))              # 실수를 정수로 바꾸려고 하면 에러 발생\n",
    "\n",
    "print('-' * 10)\n",
    "print('{:10d}'.format(n))    # 10칸에 맞추어 출력\n",
    "print('{:>10d}'.format(n))   # 오른쪽 정렬\n",
    "print('{:<10d}'.format(n))   # 왼쪽 정렬\n",
    "print('{:^10d}'.format(n))   # 가운데 정렬\n",
    "print('{:.>10d}'.format(n))  # 빈 칸 대신 . 사용\n",
    "print('{:_<10d}'.format(n))  # 빈 칸 대신 _ 사용\n",
    "print('{:*>10d}'.format(n))  # 빈 칸 대신 * 사용\n",
    "print('{:10.3f}'.format(pi)) # 소수점 이하 정밀값\n",
    "print('{:10.5s}'.format(s))  # 문자열 중 몇 글자만 출력\n",
    "\n",
    "print('{:10.3f}'.format(pi)) # 소수점 이하 정밀값\n",
    "print(f'{pi:10f}')\n",
    "print(f'{pi:10g}')\n",
    "print(f'{0.0003145:10g}')\n",
    "print(f'{0.00003145:10g}')\n",
    "print(f'{123456:10g}')\n",
    "print(f'{123456789:10g}')\n",
    "# 실수 반올림"
   ]
  }
 ],
 "metadata": {
  "kernelspec": {
   "display_name": "Python 3",
   "language": "python",
   "name": "python3"
  },
  "language_info": {
   "codemirror_mode": {
    "name": "ipython",
    "version": 3
   },
   "file_extension": ".py",
   "mimetype": "text/x-python",
   "name": "python",
   "nbconvert_exporter": "python",
   "pygments_lexer": "ipython3",
   "version": "3.7.4"
  }
 },
 "nbformat": 4,
 "nbformat_minor": 2
}
