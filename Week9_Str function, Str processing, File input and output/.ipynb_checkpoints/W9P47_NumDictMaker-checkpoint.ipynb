{
 "cells": [
  {
   "cell_type": "markdown",
   "metadata": {},
   "source": [
    "# <span style='font-family:Times New Roman'> WEEK 9 - PROBLEM 47: NumDict Maker \n",
    "<hr>\n",
    "<br>\n",
    "    \n",
    "### <span style='font-family:Times New Roman'> Description\n",
    "```Bash\n",
    "이름과 전화번호를 사용자로부터 입력받아 저장하는 프로그램을 만드시오. 단, 사전(dict)을 사용할 것.\n",
    "number_list = { '홍길동' : '010-1234-5678' }\n",
    "단, 입력하려는 번호의 이름이 이미 있을 경우 아래와 같은 오류 메시지를 출력해야함.\n",
    "```\n",
    "<hr>\n",
    "<br>\n",
    "\n",
    "### <span style='font-family:Georgia'> number_adder 함수\n",
    "<br>\n",
    "    \n",
    "> ##### <li> <span style='font-family:Georgia'> 함수동작 </li> \n",
    "```Bash\n",
    "사전 인자 num_list에 name을 key로 num을 value로 하는 값을 추가하여 사전을 반환 함수\n",
    "key인 name이 기존의 사전에 이미 존재하는 경우 문자열을 (name is already in num_list.) 반환\n",
    "```\n",
    "\n",
    "> ##### <li> <span style='font-family:Georgia'> 매개변수 </li> \n",
    "```Bash\n",
    "num_list: (dict) 이름과 전화번호가 쌍으로 들어있는 사전\n",
    "name : (문자열) 새롭게 입력받은 사람의 이름\n",
    "num: (문자열) 새롭게 입력받은 사람의 전화번호\n",
    "```\n",
    "\n",
    "> ##### <li> <span style='font-family:Georgia'> 반환값 </li> \n",
    "```Bash\n",
    "name, num이 추가된 사전 파일\n",
    "단, 이미 사전에 있는 사람이 인자로 들어오는 경우는 문자열로 사전에 이미 있다는 내용을 반환\n",
    "```\n",
    "<hr>\n",
    "<br>\n",
    "\n",
    "### <span style='font-family:Georgia'> Code Running Example\n",
    "```Bash\n",
    "Enter a name : 홍길동\n",
    "Enter the phone number : 010-1234-5678\n",
    "홍길동 is already in num_list.\n",
    "\n",
    "Enter a name : 김삿갓\n",
    "Enter the phone number : 010-5678-1234\n",
    "{'홍길동': '010-1234-5678', '김삿갓': '010-5678-1234'}\n",
    "```"
   ]
  },
  {
   "cell_type": "code",
   "execution_count": null,
   "metadata": {},
   "outputs": [],
   "source": [
    "# Answer of Problem \n",
    "def number_adder(num_list, name, num):\n",
    "    # Insert your code\n",
    "    if name in num_list:\n",
    "        return name + ' is already in num_list.'\n",
    "    else:\n",
    "        num_list[name] = num\n",
    "        return num_list\n",
    "\n",
    "number_list = {'홍길동': '010-1234-5678'}\n",
    "\n",
    "# if 구문을 지우지 마시오.\n",
    "if __name__ == '__main__':\n",
    "    name = input('Enter a name : ')\n",
    "    num = input('Enter the phone number : ')\n",
    "    print(number_adder(number_list, name, num))\n"
   ]
  }
 ],
 "metadata": {
  "kernelspec": {
   "display_name": "Python 3",
   "language": "python",
   "name": "python3"
  },
  "language_info": {
   "codemirror_mode": {
    "name": "ipython",
    "version": 3
   },
   "file_extension": ".py",
   "mimetype": "text/x-python",
   "name": "python",
   "nbconvert_exporter": "python",
   "pygments_lexer": "ipython3",
   "version": "3.7.4"
  }
 },
 "nbformat": 4,
 "nbformat_minor": 2
}
