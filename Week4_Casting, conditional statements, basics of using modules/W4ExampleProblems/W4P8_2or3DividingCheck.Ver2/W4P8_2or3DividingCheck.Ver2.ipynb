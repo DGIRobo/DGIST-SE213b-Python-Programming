{
 "cells": [
  {
   "cell_type": "markdown",
   "metadata": {},
   "source": [
    "# <span style='font-family:Times New Roman'> WEEK 4 - PROBLEM 8: Check if it is divided by 2 or 3 .Ver2  \n",
    "<hr>\n",
    "<br>\n",
    "    \n",
    "### <span style='font-family:Times New Roman'> Description\n",
    "```Bash\n",
    "사용자에게 정수를 입력받은 후, 그 수가 2 혹은 3으로 나눠지는지 출력하는 프로그램을 작성하시오.\n",
    "\n",
    "problem #7과 비교하여 어떻게 if문을 구성하면 가장 간단하게 구현할 수 있는지 \n",
    "생각해볼 것.\n",
    "```\n",
    "<hr>\n",
    "<br>\n",
    "\n",
    "### <span style='font-family:Georgia'> Code Running Example 1\n",
    "```Bash\n",
    "Enter an integer number: 42\n",
    "42 is divisible by 2 and 3.\n",
    "```\n",
    "<hr>\n",
    "<br>\n",
    "\n",
    "### <span style='font-family:Georgia'> Code Running Example 2\n",
    "```Bash\n",
    "Enter an integer number: 8\n",
    "8 is divisible by 2.\n",
    "```\n",
    "<hr>\n",
    "<br>\n",
    "\n",
    "### <span style='font-family:Georgia'> Code Running Example 3\n",
    "```Bash\n",
    "Enter an integer number: 9\n",
    "9 is divisible by 3.\n",
    "```\n",
    "<hr>\n",
    "<br>\n",
    "\n",
    "### <span style='font-family:Georgia'> Code Running Example 4\n",
    "```Bash\n",
    "Enter an integer number: 23\n",
    "23 is not divisible by 2 or 3.\n",
    "```"
   ]
  },
  {
   "cell_type": "code",
   "execution_count": null,
   "metadata": {},
   "outputs": [],
   "source": [
    "# Answer of Problem \n",
    "number = int(input('Enter an integer number: \\n'))\n",
    "if  (number % 2 == 0) & (number % 3 == 0):\n",
    "    print(number, 'is divisible by 2 and 3.')\n",
    "elif number % 2 ==0:\n",
    "    print(number, 'is divisible by 2.')\n",
    "elif number % 3 == 0:\n",
    "    print(number, 'is divisible by 3.')\n",
    "else:\n",
    "    print(number, 'is not divisible by 2 or 3.')"
   ]
  }
 ],
 "metadata": {
  "kernelspec": {
   "display_name": "Python 3",
   "language": "python",
   "name": "python3"
  },
  "language_info": {
   "codemirror_mode": {
    "name": "ipython",
    "version": 3
   },
   "file_extension": ".py",
   "mimetype": "text/x-python",
   "name": "python",
   "nbconvert_exporter": "python",
   "pygments_lexer": "ipython3",
   "version": "3.7.4"
  }
 },
 "nbformat": 4,
 "nbformat_minor": 2
}
