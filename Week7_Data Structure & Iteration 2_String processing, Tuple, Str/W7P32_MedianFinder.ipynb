{
 "cells": [
  {
   "cell_type": "markdown",
   "metadata": {},
   "source": [
    "# <span style='font-family:Times New Roman'> WEEK 7 - PROBLEM 32: Median Finder\n",
    "<hr>\n",
    "<br>\n",
    "    \n",
    "### <span style='font-family:Times New Roman'> Description\n",
    "```Bash\n",
    "리스트 입력으로 받고 리스트의 중앙값을 리턴하는 함수 find_median(lst)를 만드시오.\n",
    "```\n",
    "<br>\n",
    "\n",
    "> ##### <li> <span style='font-family:Times New Roman'> 함수의 동작 </li>\n",
    "```Bash\n",
    "정수가 들어있는 리스트(lst)를 받아서 중앙값을 반환\n",
    "```\n",
    "\n",
    "> ##### <li> <span style='font-family:Times New Roman'> 매개변수 </li>\n",
    "```Bash\n",
    "lst: (list) 정수를 원소로 같는 리스트\n",
    "```\n",
    "    \n",
    "> ##### <li> <span style='font-family:Times New Roman'> 반환값 </li>\n",
    "```Bash\n",
    "lst가 빈 리스트인 경우 None반환\n",
    "lst의 원소의 수가 홀수 인 경우: (int) (n+1)/2 번째 원소 반환\n",
    "lst의 원소의 수가 짝수 인 경우: (float) n/2, 1+n/2 번째 원소의 평균값 반환\n",
    "```\n",
    "<hr>\n",
    "<br>\n",
    "    \n",
    "### <span style='font-family:Georgia'> Function usage example\n",
    "```Bash\n",
    "print(find_median([ ] ))\n",
    "print(find_median([1, 4, 3, 2, 5] ))\n",
    "print(find_median([1, 2, 3, 4] ))\n",
    "```\n",
    "<hr>\n",
    "<br>\n",
    "\n",
    "### <span style='font-family:Georgia'> Function Running Example\n",
    "```Bash\n",
    "None\n",
    "3\n",
    "2.5\n",
    "```"
   ]
  },
  {
   "cell_type": "code",
   "execution_count": null,
   "metadata": {},
   "outputs": [],
   "source": [
    "# Answer of Problem \n",
    "def find_median(lst):\n",
    "    if len(lst) == 0:\n",
    "        return None\n",
    "    elif len(lst)%2 == 0:\n",
    "        num1 = int(len(lst)/2)-1\n",
    "        num2 = int(1+len(lst)/2)-1\n",
    "        mean = (lst[num1]+lst[num2])/2\n",
    "        return mean\n",
    "    else:\n",
    "        return lst[int((len(lst)+1)/2)-1]\n",
    "\n",
    "print(find_median([  ] ))\n",
    "print(find_median([1, 4, 3, 2, 5] ))\n",
    "print(find_median([1, 2, 3, 4] ))\n"
   ]
  }
 ],
 "metadata": {
  "kernelspec": {
   "display_name": "Python 3",
   "language": "python",
   "name": "python3"
  },
  "language_info": {
   "codemirror_mode": {
    "name": "ipython",
    "version": 3
   },
   "file_extension": ".py",
   "mimetype": "text/x-python",
   "name": "python",
   "nbconvert_exporter": "python",
   "pygments_lexer": "ipython3",
   "version": "3.7.4"
  }
 },
 "nbformat": 4,
 "nbformat_minor": 2
}
