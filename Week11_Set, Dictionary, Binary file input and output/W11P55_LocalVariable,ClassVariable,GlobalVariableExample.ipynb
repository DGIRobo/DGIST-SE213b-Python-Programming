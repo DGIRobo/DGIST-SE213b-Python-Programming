{
 "cells": [
  {
   "cell_type": "markdown",
   "metadata": {},
   "source": [
    "# <span style='font-family:Times New Roman'> WEEK 11 - PROBLEM 55: Local Variable, Class Variable, Global Variable Example\n",
    "<hr>\n",
    "<br>\n",
    "    \n",
    "### <span style='font-family:Times New Roman'> Description\n",
    "```Bash\n",
    "다음 예에서는 지역 변수, 클래스 변수, 객체 변수가 모두 사용되어 있다. Python Tutor를 사용하여, 한 줄씩 실행해보고, 각각의 변수가 언제/어떻게 변경되는지 확인해보시오.\n",
    "어떤 변수가 지역 변수, 클래스 변수, 객체 변수인가?\n",
    "```"
   ]
  },
  {
   "cell_type": "code",
   "execution_count": null,
   "metadata": {},
   "outputs": [],
   "source": [
    "# Answer of Problem \n",
    "class MyCounter():\n",
    "    \"\"\"Simple Counter class\"\"\"\n",
    "    # Is n a class variable or an instance variable?\n",
    "    n = 0\n",
    "\n",
    "    def __init__(self, value=0):\n",
    "        \"\"\"Initialize counter with given value or default value (0)\"\"\"\n",
    "        # What is the difference between 'self.counter' and 'counter'?\n",
    "        self.counter = value\n",
    "        counter = value\n",
    "        MyCounter.n += 1\n",
    "\n",
    "    def get(self):\n",
    "        \"\"\"Return the value of counter\"\"\"\n",
    "        return self.counter\n",
    "\n",
    "    def inc(self):\n",
    "        \"\"\"Increase counter by 1\"\"\"\n",
    "        self.counter += 1\n",
    "        # What is the scope of local_variable?\n",
    "        local_variable = self.counter\n",
    "        local_variable += 100\n",
    "\n",
    "\n",
    "print(MyCounter.n)\n",
    "c1 = MyCounter()\n",
    "print(MyCounter.n, c1.get())\n",
    "c2 = MyCounter(42)\n",
    "print(MyCounter.n, c1.get())\n",
    "print(MyCounter.n, c1.get())\n",
    "c1.inc()\n",
    "print(MyCounter.n, c1.get())\n",
    "print(MyCounter.n, c1.get())\n",
    "c1.inc()\n",
    "print(MyCounter.n, c1.get())\n",
    "print(MyCounter.n, c1.get())\n",
    "c2.inc()\n",
    "print(MyCounter.n, c1.get())\n",
    "print(MyCounter.n, c1.get())\n"
   ]
  }
 ],
 "metadata": {
  "kernelspec": {
   "display_name": "Python 3",
   "language": "python",
   "name": "python3"
  },
  "language_info": {
   "codemirror_mode": {
    "name": "ipython",
    "version": 3
   },
   "file_extension": ".py",
   "mimetype": "text/x-python",
   "name": "python",
   "nbconvert_exporter": "python",
   "pygments_lexer": "ipython3",
   "version": "3.7.4"
  }
 },
 "nbformat": 4,
 "nbformat_minor": 2
}
