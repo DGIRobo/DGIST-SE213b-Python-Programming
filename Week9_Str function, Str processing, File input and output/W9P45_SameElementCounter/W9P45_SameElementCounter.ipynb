{
 "cells": [
  {
   "cell_type": "markdown",
   "metadata": {},
   "source": [
    "# <span style='font-family:Times New Roman'> WEEK 9 - PROBLEM 45: Same Element Counter  \n",
    "<hr>\n",
    "<br>\n",
    "    \n",
    "### <span style='font-family:Times New Roman'> Description\n",
    "```Bash\n",
    "주어진 text에서 2번이상 나오는 단어와 몇번 나왔는지 반환하는 함수를 작성하시오. 이 때 단어와 빈도를 원소로 가지는 튜플들의 리스트를 반환할 것.\n",
    "```\n",
    "<hr>\n",
    "<br>\n",
    "\n",
    "### <span style='font-family:Times New Roman'> dic()함수\n",
    "<br>\n",
    "\n",
    "> ##### <li> <span style='font-family:Times New Roman'> 함수동작 </li>\n",
    "```Bash\n",
    "문자열을 인자로 받아서 공백으로 구분된 단어를 만들고,\n",
    "문자열에서 그 단어가 나오는 빈도수를 계산하여 ('단어', 빈도수) 쌍의 튜플을 만들고\n",
    "빈도수가 2이상인 튜플들을 리스트에 저장하여 반환\n",
    "```\n",
    "    \n",
    "> ##### <li> <span style='font-family:Times New Roman'> 매개변수 </li>\n",
    "```Bash\n",
    "words:(문자열) 공백으로 단어가 구분된 문자열\n",
    "```\n",
    "\n",
    "> ##### <li> <span style='font-family:Times New Roman'> 반환값 </li>\n",
    "```Bash\n",
    "(list) 리스트의 엘리먼트는 단어와 빈도수로 이루어진 튜플로 이루어짐\n",
    "빈도수가 2이상인 단어만으로 구성 [ ('you', 3), ]\n",
    "```\n",
    "<hr>\n",
    "<br>\n",
    "\n",
    "### <span style='font-family:Georgia'> Function Usage Example\n",
    "```Bash\n",
    "print(dic('you learn you learn you'))\n",
    "```\n",
    "<hr>\n",
    "<br>\n",
    "\n",
    "### <span style='font-family:Georgia'> Function Running Example\n",
    "```Bash\n",
    "[('learn', 2), ('you', 3)]\n",
    "```"
   ]
  },
  {
   "cell_type": "code",
   "execution_count": null,
   "metadata": {},
   "outputs": [],
   "source": [
    "# Answer of Problem \n",
    "text=\"\"\"\n",
    "you are learning a programming class\n",
    "today you have to learn dictionary grammar\n",
    "i hope you will learn happily\n",
    "\"\"\"\n",
    "\n",
    "def dic(words):\n",
    "    word_list = words.split()\n",
    "    count = {}\n",
    "    same_word = []\n",
    "    for item in word_list:\n",
    "        count[item] = count.get(item, 0) + 1\n",
    "    for item in count:\n",
    "        if count.get(item) >= 2:\n",
    "            key = count.get(item)\n",
    "            same_word.append((item, key))\n",
    "    return same_word\n",
    "\n",
    "print(dic(text)) #text안의 단어들은 공백으로 구분됨\n"
   ]
  }
 ],
 "metadata": {
  "kernelspec": {
   "display_name": "Python 3",
   "language": "python",
   "name": "python3"
  },
  "language_info": {
   "codemirror_mode": {
    "name": "ipython",
    "version": 3
   },
   "file_extension": ".py",
   "mimetype": "text/x-python",
   "name": "python",
   "nbconvert_exporter": "python",
   "pygments_lexer": "ipython3",
   "version": "3.7.4"
  }
 },
 "nbformat": 4,
 "nbformat_minor": 2
}
