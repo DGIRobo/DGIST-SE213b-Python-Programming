{
 "cells": [
  {
   "cell_type": "markdown",
   "metadata": {},
   "source": [
    "# <span style='font-family:Times New Roman'> WEEK 14 - PROBLEM 71: Ignition Equation Using Iteration\n",
    "<hr>\n",
    "<br>\n",
    "    \n",
    "### <span style='font-family:Times New Roman'> Description\n",
    "```Bash\n",
    "다음가 같은 점화식으로 주어지는 수열(sequence)를 계산하는 함수 sequence_a(n)을 구현하시오.\n",
    "\n",
    "a0=1,  an=2⋅an−1+1\n",
    "```\n",
    "<hr>\n",
    "<br>\n",
    "\n",
    "### <span style='font-family:Georgia'> 함수 sequence_a(n)\n",
    "<br>\n",
    "\n",
    "> ##### <li> <span style='font-family:Georgia'> 함수동작 </li>\n",
    "```Bash\n",
    "n을 매개변수로 받아서 n에 해당하는 함수 값을 반환함\n",
    "```\n",
    "\n",
    "> ##### <li> <span style='font-family:Georgia'> 매개변수 </li>\n",
    "```Bash\n",
    "n: 0 이상의 정수. 음수 혹은 실수가 입력되는 경우는 생각하지 않아도 됨\n",
    "```\n",
    "    \n",
    "> ##### <li> <span style='font-family:Georgia'> 반환값 </li>\n",
    "```Bash\n",
    "(int) $a_n$의 값 반환\n",
    "```\n",
    "<hr>\n",
    "<br>\n",
    "\n",
    "### <span style='font-family:Georgia'> Function Usage Example\n",
    "```Bash\n",
    "print(sequence_a(0))\n",
    "print(sequence_a(1))\n",
    "print(sequence_a(5))\n",
    "```\n",
    "<hr>\n",
    "<br>\n",
    "\n",
    "### <span style='font-family:Georgia'> Function Running Example\n",
    "```Bash\n",
    "1\n",
    "3\n",
    "63\n",
    "```"
   ]
  },
  {
   "cell_type": "code",
   "execution_count": null,
   "metadata": {},
   "outputs": [],
   "source": [
    "# Answer of Problem \n",
    "def sequence_a(n):\n",
    "    \"\"\"Retuan a_n for the given sequence\"\"\"\n",
    "    result = 0\n",
    "    for i in range(n+1):\n",
    "        result = 2*result+1\n",
    "    return result\n",
    "\n",
    "if __name__ == '__main__':\n",
    "    print(sequence_a(0))\n",
    "    print(sequence_a(1))\n",
    "    print(sequence_a(5))\n"
   ]
  }
 ],
 "metadata": {
  "kernelspec": {
   "display_name": "Python 3",
   "language": "python",
   "name": "python3"
  },
  "language_info": {
   "codemirror_mode": {
    "name": "ipython",
    "version": 3
   },
   "file_extension": ".py",
   "mimetype": "text/x-python",
   "name": "python",
   "nbconvert_exporter": "python",
   "pygments_lexer": "ipython3",
   "version": "3.7.4"
  }
 },
 "nbformat": 4,
 "nbformat_minor": 2
}
