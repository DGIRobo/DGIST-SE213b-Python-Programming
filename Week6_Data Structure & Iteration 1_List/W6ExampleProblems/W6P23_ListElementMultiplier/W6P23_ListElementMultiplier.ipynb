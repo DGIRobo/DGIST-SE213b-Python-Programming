{
 "cells": [
  {
   "cell_type": "markdown",
   "metadata": {},
   "source": [
    "# <span style='font-family:Times New Roman'> WEEK 6 - PROBLEM 23: Function that multiplies the elements of a list constant\n",
    "<hr>\n",
    "<br>\n",
    "    \n",
    "### <span style='font-family:Times New Roman'> Description\n",
    "```Bash\n",
    "함수 multiple_by_a_constant(t, a)를 아래와 같이 정의할 것\n",
    "```\n",
    "<br>\n",
    "\n",
    "> ##### <li> <span style='font-family:Times New Roman'> 함수의 동작 </li>\n",
    "```Bash\n",
    "t에 전달된 리스트에 있는 각 원소에 a를 곱해줌. 즉 t의 원소가 변화함.\n",
    "```\n",
    "\n",
    "> ##### <li> <span style='font-family:Times New Roman'> 매개변수 </li>\n",
    "```Bash\n",
    "t : (list)임의의 값을 원소로 포함하는 리스트\n",
    "a : (int)리스트의 원소를 곱하기 혹은 반복할 회수\n",
    "```\n",
    "    \n",
    "> ##### <li> <span style='font-family:Times New Roman'> 반환값 </li>\n",
    "```Bash\n",
    "(list) 전달받은 리스트, 즉 함수 내부에서 값이 변경한 리스트를 반환\n",
    "```\n",
    "<hr>\n",
    "<br>\n",
    "    \n",
    "### <span style='font-family:Georgia'> Function usage example\n",
    "```Bash\n",
    "t = [42, 1024, 23]\n",
    "multiply_by_a_constant(t, 2)\n",
    "print(t)\n",
    "multiply_by_a_constant(t, 10)\n",
    "print(t)\n",
    "multiply_by_a_constant(t, 0.5)\n",
    "print(t)\n",
    "s = ['i', 'love', 'python']\n",
    "multiply_by_a_constant(s, 2)\n",
    "print(s)\n",
    "```\n",
    "<hr>\n",
    "<br>\n",
    "\n",
    "### <span style='font-family:Georgia'> Function Running Example\n",
    "```Bash\n",
    "[84, 2048, 46]\n",
    "[840, 20480, 460]\n",
    "[420.0, 10240.0, 230.0]\n",
    "['ii', 'lovelove', 'pythonpython']\n",
    "```"
   ]
  },
  {
   "cell_type": "code",
   "execution_count": null,
   "metadata": {},
   "outputs": [],
   "source": [
    "# Answer of Problem \n",
    "def multiply_by_a_constant(t, a):\n",
    "    for value in range(len(t)):\n",
    "        t[value]=t[value]*a\n",
    "    return t\n",
    "\n",
    "t = [42, 1024, 23]\n",
    "multiply_by_a_constant(t, 2)\n",
    "print(t)\n",
    "multiply_by_a_constant(t, 10)\n",
    "print(t)\n",
    "multiply_by_a_constant(t, 0.5)\n",
    "print(t)\n",
    "s = ['i', 'love', 'python']\n",
    "multiply_by_a_constant(s, 2)\n",
    "print(s)"
   ]
  }
 ],
 "metadata": {
  "kernelspec": {
   "display_name": "Python 3",
   "language": "python",
   "name": "python3"
  },
  "language_info": {
   "codemirror_mode": {
    "name": "ipython",
    "version": 3
   },
   "file_extension": ".py",
   "mimetype": "text/x-python",
   "name": "python",
   "nbconvert_exporter": "python",
   "pygments_lexer": "ipython3",
   "version": "3.7.4"
  }
 },
 "nbformat": 4,
 "nbformat_minor": 2
}
