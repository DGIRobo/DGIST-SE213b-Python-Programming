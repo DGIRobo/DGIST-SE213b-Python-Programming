{
 "cells": [
  {
   "cell_type": "markdown",
   "metadata": {},
   "source": [
    "# <span style='font-family:Times New Roman'> WEEK 1 - PROBLEM 1  \n",
    "<hr>\n",
    "<br>\n",
    "    \n",
    "### <span style='font-family:Times New Roman'> Description\n",
    "```Bash\n",
    "You may use python as a powerful calculator. You can add your own expressions,\n",
    "and use 'print()' function to show the results.\n",
    "```"
   ]
  },
  {
   "cell_type": "code",
   "execution_count": null,
   "metadata": {},
   "outputs": [],
   "source": [
    "# Answer of Problem\n",
    "# print() 함수를 이용하여, 계산기처럼 사용할 수 있다\n",
    "\n",
    "# #부터 줄의 끝까지는 python이 주석으로 인식한다. 즉, 이 부분은\n",
    "# 어떤 명령어로 인식하지 않고, 무시하게 된다.\n",
    "\n",
    "print(3)   # 정수\n",
    "print(3.0) # 실수\n",
    "\n",
    "print(2 + 3)\n",
    "print(2 - 3)\n",
    "print(2 * 3)\n",
    "print(2 / 3)\n",
    "print(2 // 3) # 정수형으로 나눗셈을 할 때는 //를 사용\n",
    "print(2 ** 3) # 2 * 2 * 2\n",
    "\n",
    "print('Hello, World!') # ''를 이용하여, 문자열을 나타낼 수 있다\n",
    "print(\"Hello, World!\") # \"\"도 ''와 마찬가지로 문자열을 나타낸다\n",
    "\n",
    "print(1, 2, 3) # , 를 적으면 여러 값을 출력할 수 있다. 빈칸으로 구분된다.\n",
    "print(2 * 2 * 2, 2 ** 3)\n",
    "print('1+2+...+10 =', 1 + 2 + 3 + 4 + 5 + 6 + 7 + 8 + 9 + 10)"
   ]
  }
 ],
 "metadata": {
  "kernelspec": {
   "display_name": "Python 3",
   "language": "python",
   "name": "python3"
  },
  "language_info": {
   "codemirror_mode": {
    "name": "ipython",
    "version": 3
   },
   "file_extension": ".py",
   "mimetype": "text/x-python",
   "name": "python",
   "nbconvert_exporter": "python",
   "pygments_lexer": "ipython3",
   "version": "3.6.5"
  }
 },
 "nbformat": 4,
 "nbformat_minor": 2
}
