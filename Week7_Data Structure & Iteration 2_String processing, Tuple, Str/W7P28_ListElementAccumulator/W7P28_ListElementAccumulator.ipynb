{
 "cells": [
  {
   "cell_type": "markdown",
   "metadata": {},
   "source": [
    "# <span style='font-family:Times New Roman'> WEEK 7 - PROBLEM 28: List Element Accumulator\n",
    "<hr>\n",
    "<br>\n",
    "    \n",
    "### <span style='font-family:Times New Roman'> Description\n",
    "```Bash\n",
    "함수에 전달되는 list의 elements를 더하는 함수 acc_list(lst, elm)를 구현하시오.\n",
    "```\n",
    "<br>\n",
    "\n",
    "> ##### <li> <span style='font-family:Times New Roman'> 함수의 동작 </li>\n",
    "```Bash\n",
    "정수가 들어있는 list(lst)를 매개변수로 받아서 list안에 있는 값을 모두 더하는 함수\n",
    "두 번째 매개변수인 elm이 None인 경우\n",
    "   - lst의 첫 원소부터 마지막 원소까지 누산을 한 결과 반환\n",
    "elm이 None가 아닌 경우\n",
    "   - lst의 첫 원소부터 elm 전 까지의 원소를 누산하여 결과를 반환함\n",
    "```\n",
    "\n",
    "> ##### <li> <span style='font-family:Times New Roman'> 매개변수 </li>\n",
    "```Bash\n",
    "lst:(list) 모든 원소가 정수인 리스트\n",
    "elm:(int|None) lst리스트에서 찾고자 하는 element\n",
    "```\n",
    "    \n",
    "> ##### <li> <span style='font-family:Times New Roman'> 반환값 </li>\n",
    "```Bash\n",
    "누산한 결과값을 반환\n",
    "   - elm이 None인 경우: lst의 모든 원소를 합한 결과를 반환\n",
    "   - elm이 None가 아닌 경우: lst에서 elm이 처음 나오기 전까지의 원소의 합을 반환\n",
    "```\n",
    "<hr>\n",
    "<br>\n",
    "    \n",
    "### <span style='font-family:Georgia'> Function usage example\n",
    "```Bash\n",
    "v1 = [1,4,1,5]\n",
    "print(acc_list(v1, None))\n",
    "print(acc_list(v1, 5))\n",
    "```\n",
    "<hr>\n",
    "<br>\n",
    "\n",
    "### <span style='font-family:Georgia'> Function Running Example\n",
    "```Bash\n",
    "11\n",
    "6\n",
    "```"
   ]
  },
  {
   "cell_type": "code",
   "execution_count": null,
   "metadata": {},
   "outputs": [],
   "source": [
    "# Answer of Problem \n",
    "def acc_list(lst, elm) :\n",
    "    ''' acc_list returns accumulation of elements of list before elm appears.'''\n",
    "    result=0\n",
    "    if elm == None:\n",
    "        for val1 in lst:\n",
    "            result=result+val1\n",
    "        return result\n",
    "    else:\n",
    "        for val2 in lst:\n",
    "            if val2 == elm:\n",
    "                break\n",
    "            else:\n",
    "                result=result+val2\n",
    "        return result\n",
    "\n",
    "v1 = [1,4,1,5]\n",
    "print(acc_list(v1, None))\n",
    "print(acc_list(v1, 5))\n"
   ]
  }
 ],
 "metadata": {
  "kernelspec": {
   "display_name": "Python 3",
   "language": "python",
   "name": "python3"
  },
  "language_info": {
   "codemirror_mode": {
    "name": "ipython",
    "version": 3
   },
   "file_extension": ".py",
   "mimetype": "text/x-python",
   "name": "python",
   "nbconvert_exporter": "python",
   "pygments_lexer": "ipython3",
   "version": "3.7.4"
  }
 },
 "nbformat": 4,
 "nbformat_minor": 2
}
