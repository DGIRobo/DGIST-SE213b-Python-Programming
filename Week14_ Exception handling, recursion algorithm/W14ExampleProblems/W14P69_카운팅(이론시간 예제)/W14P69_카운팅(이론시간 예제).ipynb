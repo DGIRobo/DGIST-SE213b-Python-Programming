{
 "cells": [
  {
   "cell_type": "markdown",
   "metadata": {},
   "source": [
    "# <span style='font-family:Times New Roman'> WEEK 14 - PROBLEM 69: 카운팅 (이론시간 예제)\n",
    "<hr>\n",
    "<br>\n",
    "    \n",
    "### <span style='font-family:Times New Roman'> Description\n",
    "```Bash\n",
    "사전을 활용하는 예제를 다룰때, 카운팅 하는 예제를 사용했었다. 리스트를 인자로 받아서 리스트에 있는 요소 별로 몇번 사용되고 있는지 확인하는 코드를 작성하였다. 사전의 key값으로 요소를 넣고 value로 빈도수를 기입하는 코드를 아래와 같이 작성하였지만, 실행시, 뜻하지 않게 Key error 오류가 발생하였다.\n",
    "\n",
    "수업시간에 이를 해결하는 방법으로 사전의 get함수를 활용하거나 in 연산자를 이용하는 방법을 다뤘다. 본 연습에서는 발생하는 에러를 확인해 보고 해당 에러를 처리할 수 있는 try구문을 구현하시오. (다양한 exception을 활용하여 동작시켜본다.)\n",
    "```\n",
    "\n",
    "```Bash\n",
    "def count_items(sequence):\n",
    "    count = {}\n",
    "    for item in sequence:\n",
    "        count[item] += 1\n",
    "    return count\n",
    "\n",
    "t = ['python', 'c++', 'python', 'go', 'java', 'java']\n",
    "print(count_items(t))\n",
    "```\n",
    "<hr>\n",
    "<br>\n",
    "\n",
    "### <span style='font-family:Georgia'> 원하는 답\n",
    "```Bash\n",
    "{'python': 2, 'c++': 1, 'go': 1, 'java': 2}\n",
    "```\n",
    "<hr>\n",
    "<br>\n",
    "\n",
    "### <span style='font-family:Georgia'> 실행결과\n",
    "```Bash\n",
    "Traceback (most recent call last):\n",
    "  File \"main.py\", line 8, in <module>\n",
    "    print(count_items(t))\n",
    "  File \"main.py\", line 4, in count_items\n",
    "    count[item] += 1\n",
    "KeyError: 'python'\n",
    "```"
   ]
  },
  {
   "cell_type": "code",
   "execution_count": null,
   "metadata": {},
   "outputs": [],
   "source": [
    "# Answer of Problem \n",
    "def count_items(sequence):\n",
    "    count = {}\n",
    "    for item in sequence:\n",
    "        try:\n",
    "            count[item] += 1\n",
    "        except KeyError:\n",
    "            count[item] = 1\n",
    "    return count\n",
    "\n",
    "t = ['python', 'c++', 'python', 'go', 'java', 'java']\n",
    "print(count_items(t))\n"
   ]
  }
 ],
 "metadata": {
  "kernelspec": {
   "display_name": "Python 3",
   "language": "python",
   "name": "python3"
  },
  "language_info": {
   "codemirror_mode": {
    "name": "ipython",
    "version": 3
   },
   "file_extension": ".py",
   "mimetype": "text/x-python",
   "name": "python",
   "nbconvert_exporter": "python",
   "pygments_lexer": "ipython3",
   "version": "3.7.4"
  }
 },
 "nbformat": 4,
 "nbformat_minor": 2
}
