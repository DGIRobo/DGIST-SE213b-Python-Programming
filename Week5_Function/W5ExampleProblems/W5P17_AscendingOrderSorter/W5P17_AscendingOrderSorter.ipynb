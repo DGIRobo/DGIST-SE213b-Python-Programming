{
 "cells": [
  {
   "cell_type": "markdown",
   "metadata": {},
   "source": [
    "# <span style='font-family:Times New Roman'> WEEK 5 - PROBLEM 17: Ascending Order Sorter\n",
    "<hr>\n",
    "<br>\n",
    "    \n",
    "### <span style='font-family:Times New Roman'> Description\n",
    "```Bash\n",
    "3개의 정수를 입력받아서, 오름차순 정렬하는 sorting(n1, n2, n3) 함수를 작성하세요. 단, 세 정수가 서로 같은 경우는 생각하지 않을 것. 즉, 세 정수는 모두 값이 다르다.\n",
    "```\n",
    "<br>\n",
    "\n",
    "> ##### <li> <span style='font-family:Times New Roman'> 함수의 동작 </li>\n",
    "```Bash\n",
    "정수 3개(n1, n2, n3)를 인자로 넣어주면, 오름차순으로 숫자를 정렬한 뒤, 정렬된 순서대로 출력함.\n",
    "```\n",
    "\n",
    "> ##### <li> <span style='font-family:Times New Roman'> 매개변수 </li>\n",
    "```Bash\n",
    "n1: (int) 정렬하고자 하는 숫자\n",
    "n2: (int) 정렬하고자 하는 숫자\n",
    "n3: (int) 정렬하고자 하는 숫자\n",
    "```\n",
    "    \n",
    "> ##### <li> <span style='font-family:Times New Roman'> 반환값 </li>\n",
    "```Bash\n",
    "없음.\n",
    "```\n",
    "<hr>\n",
    "<br>\n",
    "\n",
    "### <span style='font-family:Georgia'> Code Running Example\n",
    "```Bash\n",
    "sorting(20, 10, 30)\n",
    "10 20 30\n",
    "```"
   ]
  },
  {
   "cell_type": "code",
   "execution_count": null,
   "metadata": {},
   "outputs": [],
   "source": [
    "# Answer of Problem \n",
    "def sorting(n1, n2, n3):\n",
    "    if n1>n2:\n",
    "        if n1<n3:\n",
    "            print(n2, n1, n3)\n",
    "        if n1>n3:\n",
    "            if n2>n3:\n",
    "               print(n3, n2, n1)\n",
    "            elif n3>n2:\n",
    "               print(n2, n3, n1)\n",
    "    if n1<n2:\n",
    "        if n2<n3:\n",
    "            print(n1, n2, n3)\n",
    "        if n2>n3:\n",
    "            if n3>n1:\n",
    "               print(n1, n3, n2)\n",
    "            elif n1>n3:\n",
    "               print(n3, n1, n2)\n",
    "\n",
    "\n",
    "sorting(20, 10, 30)"
   ]
  }
 ],
 "metadata": {
  "kernelspec": {
   "display_name": "Python 3",
   "language": "python",
   "name": "python3"
  },
  "language_info": {
   "codemirror_mode": {
    "name": "ipython",
    "version": 3
   },
   "file_extension": ".py",
   "mimetype": "text/x-python",
   "name": "python",
   "nbconvert_exporter": "python",
   "pygments_lexer": "ipython3",
   "version": "3.7.4"
  }
 },
 "nbformat": 4,
 "nbformat_minor": 2
}
