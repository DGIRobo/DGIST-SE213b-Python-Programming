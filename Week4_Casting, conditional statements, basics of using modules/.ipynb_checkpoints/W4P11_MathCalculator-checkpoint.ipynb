{
 "cells": [
  {
   "cell_type": "markdown",
   "metadata": {},
   "source": [
    "# <span style='font-family:Times New Roman'> WEEK 4 - PROBLEM 11: Math calculator\n",
    "<hr>\n",
    "<br>\n",
    "    \n",
    "### <span style='font-family:Times New Roman'> Description\n",
    "```Bash\n",
    "사용자에게 두 숫자와 \"+, -, *, /\" 중 하나인 연산자를 입력받아 두 수의 연산을 수행하는 계산기를 만들 것.\n",
    "```\n",
    "<hr>\n",
    "<br>\n",
    "\n",
    "### <span style='font-family:Georgia'> Code Running Example\n",
    "```Bash\n",
    "Enter a left operand: 12.34\n",
    "Enter an operator: *\n",
    "Enter a right operand: 5.6\n",
    "69.104\n",
    "```"
   ]
  },
  {
   "cell_type": "code",
   "execution_count": null,
   "metadata": {},
   "outputs": [],
   "source": [
    "# Answer of Problem \n",
    "number1 = float(input('Enter a left operand: '))\n",
    "operator = input('Enter an oprator: ')\n",
    "number2 = float(input('Enter a right operand: '))\n",
    "\n",
    "if operator=='+':\n",
    "    print(number1+number2)\n",
    "elif operator=='-':\n",
    "    print(number1-number2)\n",
    "elif operator=='*':\n",
    "    print(number1*number2)\n",
    "elif operator=='/':\n",
    "    print(number1/number2)"
   ]
  }
 ],
 "metadata": {
  "kernelspec": {
   "display_name": "Python 3",
   "language": "python",
   "name": "python3"
  },
  "language_info": {
   "codemirror_mode": {
    "name": "ipython",
    "version": 3
   },
   "file_extension": ".py",
   "mimetype": "text/x-python",
   "name": "python",
   "nbconvert_exporter": "python",
   "pygments_lexer": "ipython3",
   "version": "3.7.4"
  }
 },
 "nbformat": 4,
 "nbformat_minor": 2
}
