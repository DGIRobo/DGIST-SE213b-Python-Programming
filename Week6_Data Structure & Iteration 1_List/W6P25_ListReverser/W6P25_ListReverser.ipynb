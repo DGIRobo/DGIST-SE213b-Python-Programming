{
 "cells": [
  {
   "cell_type": "markdown",
   "metadata": {},
   "source": [
    "# <span style='font-family:Times New Roman'> WEEK 6 - PROBLEM 25: Reverse list Maker\n",
    "<hr>\n",
    "<br>\n",
    "    \n",
    "### <span style='font-family:Times New Roman'> Description\n",
    "```Bash\n",
    "매개변수 리스트에 대해, 리스트 요소의 배열 순서를 뒤집는 함수 reverse(lst) 를 만드시오.\n",
    "```\n",
    "<br>\n",
    "\n",
    "> ##### <li> <span style='font-family:Times New Roman'> 함수의 동작 </li>\n",
    "```Bash\n",
    "예를들어, lst=['a','b','c'] 를 매개변수로 입력하면, lst의 순서가 반전된 리스트인 ['c','b','a']를 lst에 다시 할당하고 lst를 반환하는 함수를 작성할 것.\n",
    "```\n",
    "\n",
    "> ##### <li> <span style='font-family:Times New Roman'> 매개변수 </li>\n",
    "```Bash\n",
    "lst: (list) 문자열 리스트\n",
    "```\n",
    "    \n",
    "> ##### <li> <span style='font-family:Times New Roman'> 반환값 </li>\n",
    "```Bash\n",
    "(list) 매개변수 lst의 모든 elements순서가 뒤집어진 리스트\n",
    "```\n",
    "<hr>\n",
    "<br>\n",
    "    \n",
    "### <span style='font-family:Georgia'> Function usage example\n",
    "```Bash\n",
    "lst=['a','b','c']\n",
    "print(reverse(lst))\n",
    "print(lst)\n",
    "```\n",
    "<hr>\n",
    "<br>\n",
    "\n",
    "### <span style='font-family:Georgia'> Function Running Example\n",
    "```Bash\n",
    "['c', 'b', 'a']\n",
    "['c', 'b', 'a']\n",
    "```"
   ]
  },
  {
   "cell_type": "code",
   "execution_count": null,
   "metadata": {},
   "outputs": [],
   "source": [
    "# Answer of Problem \n",
    "def reverse(lst): #2. 이렇게 함수가 리스트 자료형을 파라미터로 받아오면, 함수의 로컬 네임스페이스에는 그 파라미터가 리스트자료형인 것과 그것이 저장된 메모리의 주소가 어디인지 기록된다.\n",
    "    copied = []\n",
    "    for value in range(len(lst)):\n",
    "        copied.append(lst[value])\n",
    "    for value in range(len(lst)):\n",
    "        lst[value]=copied[-1-value] #3. 그래서 이렇게 리스트를 새로 만들지 않고 이미 만들어진 리스트에다 장난질을 하면, 리스트 자체가 바뀌기 때문에, 이 문장이 실행된 이후의 이 리스트에 관련된 연산이나 명령들은 이 장난질에 의해 '바뀐' 리스트에 맞춰서 작성해주어야 한다.\n",
    "    return lst\n",
    "\n",
    "lst=['a', 'b', 'c'] #1. 여기서 list를 생성하면, global namespace에는 lst는 리스트자료형인 것과 그것이 저장된 메모리의 주소가 어디인지 기록되고, 다른 메모리 공간에서 lst는 인덱스 0번 자리에 문자 a, 인덱스 1번 자리에 b, 인덱스 2번 자리에 c를 가진 리스트 자료형이라는 것이 저장된다.\n",
    "print(reverse(lst))\n",
    "print(lst) #4. 따라서 lst=reverse(lst)를 해주지 않아도 lst는 Global에서 접속하든 Local에서 접속하든 한곳 lst이 저장된 메모리 주소로 접속하기 때문에 장난질 한 것이 그대로 반영되어 있다."
   ]
  }
 ],
 "metadata": {
  "kernelspec": {
   "display_name": "Python 3",
   "language": "python",
   "name": "python3"
  },
  "language_info": {
   "codemirror_mode": {
    "name": "ipython",
    "version": 3
   },
   "file_extension": ".py",
   "mimetype": "text/x-python",
   "name": "python",
   "nbconvert_exporter": "python",
   "pygments_lexer": "ipython3",
   "version": "3.7.4"
  }
 },
 "nbformat": 4,
 "nbformat_minor": 2
}
