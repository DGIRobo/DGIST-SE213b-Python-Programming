{
 "cells": [
  {
   "cell_type": "markdown",
   "metadata": {},
   "source": [
    "# <span style='font-family:Times New Roman'> WEEK 4 - PROBLEM 12: Leap year Calculater\n",
    "<hr>\n",
    "<br>\n",
    "    \n",
    "### <span style='font-family:Times New Roman'> Description\n",
    "```Bash\n",
    "2월 29일은 4년에 한 번 돌아오는데 이렇게 2월 29일이 있는 해를 윤년(leap year)라고 합니다. 사용자에게 연도(year)를 입력받고 입력받은 연도가 윤년인지 아닌지 판단하는 프로그램을 작성할 것. 윤년을 판정하는 조건은 아래와 같다.\n",
    "\n",
    "1. 기본적으로 연도 수가 4로 나누어떨어지면 윤년이다.\n",
    "2. 그러나 100으로 나누어떨어지는 해는 윤년이 아니다.\n",
    "3. 그러나 400으로 나누어 떨어지는 해는 윤년이다.\n",
    "```\n",
    "<hr>\n",
    "<br>\n",
    "\n",
    "### <span style='font-family:Georgia'> Code Running Example 1\n",
    "```Bash\n",
    "Enter the year:2000\n",
    "This year is a leap year.\n",
    "```\n",
    "<hr>\n",
    "<br>\n",
    "\n",
    "### <span style='font-family:Georgia'> Code Running Example 2\n",
    "```Bash\n",
    "Enter the year:2019\n",
    "This year is not a leap year.\n",
    "```\n",
    "<hr>\n",
    "<br>\n",
    "\n",
    "### <span style='font-family:Georgia'> Code Running Example 3\n",
    "```Bash\n",
    "Enter the year:2020\n",
    "This year is a leap year.\n",
    "```"
   ]
  },
  {
   "cell_type": "code",
   "execution_count": null,
   "metadata": {},
   "outputs": [],
   "source": [
    "# Answer of Problem \n",
    "year = int(input('Enter the year: '))\n",
    "if year%400 == 0:\n",
    "    print('This year is a leap year.')\n",
    "elif year%100 ==0:\n",
    "    print('This year is not a leap year.')\n",
    "elif year%4 == 0:\n",
    "    print('This year is a leap year.')\n",
    "else:\n",
    "    print('This year is not a leap year.')"
   ]
  }
 ],
 "metadata": {
  "kernelspec": {
   "display_name": "Python 3",
   "language": "python",
   "name": "python3"
  },
  "language_info": {
   "codemirror_mode": {
    "name": "ipython",
    "version": 3
   },
   "file_extension": ".py",
   "mimetype": "text/x-python",
   "name": "python",
   "nbconvert_exporter": "python",
   "pygments_lexer": "ipython3",
   "version": "3.7.4"
  }
 },
 "nbformat": 4,
 "nbformat_minor": 2
}
