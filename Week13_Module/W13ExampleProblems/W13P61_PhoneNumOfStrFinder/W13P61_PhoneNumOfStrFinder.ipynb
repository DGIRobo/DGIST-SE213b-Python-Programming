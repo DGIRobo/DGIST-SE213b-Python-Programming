{
 "cells": [
  {
   "cell_type": "markdown",
   "metadata": {},
   "source": [
    "# <span style='font-family:Times New Roman'> WEEK 13 - PROBLEM 61: PhoneNum of Str Finder \n",
    "<hr>\n",
    "<br>\n",
    "    \n",
    "### <span style='font-family:Times New Roman'> Description\n",
    "```Bash\n",
    "문자열에서 휴대폰 번호를 추출하는 함수 phone_number(contents)를 작성할 것\n",
    "```\n",
    "<hr>\n",
    "<br>\n",
    "\n",
    "### <span style='font-family:Georgia'> phone_number(contents) 함수\n",
    "<br>\n",
    "    \n",
    "> ##### <li> <span style='font-family:Georgia'> 함수동작 </li>\n",
    "```Bash\n",
    "contents 안에 포함된 모든 휴대폰 번호를 추출하여 리스트로 저장 후 반환\n",
    "휴대폰 번호의 양식은 숫자3-숫자3 혹은 4-숫자4\n",
    "```\n",
    "    \n",
    "> ##### <li> <span style='font-family:Georgia'> 매개변수 </li>\n",
    "```Bash\n",
    "contents: 휴대폰 번호가 0개 이상 존재하는 임의의 문자열\n",
    "```\n",
    "\n",
    "> ##### <li> <span style='font-family:Georgia'> 반환값 </li>\n",
    "```Bash\n",
    "휴대폰 번호 리스트\n",
    "```\n",
    "<hr>\n",
    "<br>\n",
    "\n",
    "### <span style='font-family:Georgia'> Function Usage Example\n",
    "```Bash\n",
    "print(phone_number(\"please call the 010-1234-5678 or 016-123-1234\"))\n",
    "print(phone_number(\"123456-7890 is not phone number.\"))\n",
    "```\n",
    "<hr>\n",
    "<br>\n",
    "\n",
    "### <span style='font-family:Georgia'> Function Running Example\n",
    "```Bash\n",
    "['010-1234-5678', '016-123-1234']\n",
    "[]\n",
    "```"
   ]
  },
  {
   "cell_type": "code",
   "execution_count": null,
   "metadata": {},
   "outputs": [],
   "source": [
    "# Answer of Problem \n",
    "import re\n",
    "\n",
    "def phone_number(contents):\n",
    "    \"\"\"return the list of phone number\"\"\"\n",
    "    phoneNums = re.findall('[0-9]{3}-[0-9]{3,4}-[0-9]{4}', contents)\n",
    "    return phoneNums\n",
    "\n",
    "print(phone_number(\"please call the 010-1234-5678 or 016-123-1234\"))\n",
    "print(phone_number(\"123456-7890 is not phone number.\"))\n"
   ]
  }
 ],
 "metadata": {
  "kernelspec": {
   "display_name": "Python 3",
   "language": "python",
   "name": "python3"
  },
  "language_info": {
   "codemirror_mode": {
    "name": "ipython",
    "version": 3
   },
   "file_extension": ".py",
   "mimetype": "text/x-python",
   "name": "python",
   "nbconvert_exporter": "python",
   "pygments_lexer": "ipython3",
   "version": "3.7.4"
  }
 },
 "nbformat": 4,
 "nbformat_minor": 2
}
