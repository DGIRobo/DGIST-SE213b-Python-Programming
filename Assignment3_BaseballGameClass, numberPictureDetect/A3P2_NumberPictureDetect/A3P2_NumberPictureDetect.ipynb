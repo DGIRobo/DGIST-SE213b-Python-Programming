{
 "cells": [
  {
   "cell_type": "markdown",
   "metadata": {},
   "source": [
    "# <span style='font-family:Times New Roman'> Assignment 3 - PROBLEM 2: Number Image Detector\n",
    "<hr>\n",
    "<br>\n",
    "    \n",
    "### <span style='font-family:Times New Roman'> Description\n",
    "```Bash\n",
    "32x32 픽셀을 갖는 bmp파일의 이름을 인자로 받아서 숫자 1인지 0인지를 판별하는 함수를 작성하시오.\n",
    "\n",
    "(week7의 48번 문제를 참조해서 풀면 됩니다.\n",
    "\n",
    "주의: 이미지에는 숫자 1 또는 0 숫자 한 개만 들어있으며, 아래와 같은 손글씨, 또는 컴퓨터 폰트로 저장되어있다.\n",
    "\n",
    "Tip: byte string으로 읽어 들인 파일의 값에서 1바이트를 가져오면 int로 해석이 됨.\n",
    "즉, b'\\x00\\xff\\x00'[1] == 255 와 같음.\n",
    "이미지를 다음과 같이 가정함. 바탕은 255(b'\\xff' : 흰색)로 되어 있고 글자는 0(b'\\x00': 검정)으로 되어 있음.\n",
    "데이터를 중간중간 print해보고 값을 보면서 디버깅을 하면 도움이 됨.\n",
    "```\n",
    "<hr>\n",
    "<br>\n",
    "\n",
    "### <span style='font-family:Times New Roman'> 함수 read_img(img_name)\n",
    "    \n",
    "> ##### <li> <span style='font-family:Times New Roman'> 함수동작 </li>\n",
    "```Bash\n",
    "파일 이름(img_name)을 매개변수로 받아서 0 또는 1일 들어있는 파일을 열어보고 이미지에 있는 숫자를 반환함\n",
    "```\n",
    "\n",
    "> ##### <li> <span style='font-family:Times New Roman'> 매개변수 </li>\n",
    "```Bash\n",
    "img_name (str) 숫자가 저장되어 있는 bmp 파일이름\n",
    "```\n",
    "\n",
    "> ##### <li> <span style='font-family:Times New Roman'> 반환값 </li>\n",
    "```Bash\n",
    "(int) 이미지에 쓰여진 0 또는 1을 판별하여 반환\n",
    "```\n",
    "<hr>\n",
    "<br>\n",
    "\n",
    "### <span style='font-family:Georgia'> Function Usage Example\n",
    "```Bash\n",
    "print( read_img(\"img0.bmp\") )\n",
    "print( read_img(\"img1.bmp\") )\n",
    "```\n",
    "<hr>\n",
    "<br>\n",
    "    \n",
    "### <span style='font-family:Georgia'> Function Running Example\n",
    "```Bash\n",
    "0\n",
    "1\n",
    "```"
   ]
  },
  {
   "cell_type": "code",
   "execution_count": 1,
   "metadata": {},
   "outputs": [
    {
     "name": "stdout",
     "output_type": "stream",
     "text": [
      "0\n",
      "1\n",
      "1\n",
      "1\n",
      "0\n"
     ]
    }
   ],
   "source": [
    "# Answer of Problem \n",
    "def read_img(img_name):\n",
    "    with open(img_name, \"rb\") as f:\n",
    "        data = f.read()\n",
    "        img = data[-512:]\n",
    "        imgList = []\n",
    "        reverseNums = [[]]\n",
    "        for i in range(len(img)):\n",
    "            '''\n",
    "            print('%3s' % img[i], end=' ')\n",
    "            if (i+1)%16 == 0:\n",
    "                print('')\n",
    "            '''\n",
    "            if i%16 == 0:\n",
    "                imgList.append(list())\n",
    "            imgList[int(i/16)].append(img[i])\n",
    "        for j in range(len(imgList)):\n",
    "            candidate = []\n",
    "            for k in range(15):\n",
    "                if imgList[j][k]!=imgList[j][k+1]:\n",
    "                    candidate.append(1)\n",
    "            reverseNums.append(candidate)\n",
    "    if reverseNums[int(len(reverseNums)/2)] == [1,1]:\n",
    "        return 1\n",
    "    if reverseNums[int(len(reverseNums)/2)] == [1,1,1,1]:\n",
    "        return 0\n",
    "\n",
    "if __name__ == '__main__':\n",
    "    print( read_img(\"img0.bmp\") )\n",
    "    print( read_img(\"img1.bmp\") )\n",
    "    print( read_img(\"img2.bmp\") )\n",
    "    print( read_img(\"img3.bmp\") )\n",
    "    print( read_img(\"img4.bmp\") )\n"
   ]
  }
 ],
 "metadata": {
  "kernelspec": {
   "display_name": "Python 3",
   "language": "python",
   "name": "python3"
  },
  "language_info": {
   "codemirror_mode": {
    "name": "ipython",
    "version": 3
   },
   "file_extension": ".py",
   "mimetype": "text/x-python",
   "name": "python",
   "nbconvert_exporter": "python",
   "pygments_lexer": "ipython3",
   "version": "3.7.4"
  }
 },
 "nbformat": 4,
 "nbformat_minor": 2
}
