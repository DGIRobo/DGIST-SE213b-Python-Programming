{
 "cells": [
  {
   "cell_type": "markdown",
   "metadata": {},
   "source": [
    "# <span style='font-family:Times New Roman'> Assignment 1 - PROBLEM 1: Fibonacci Printer\n",
    "<hr>\n",
    "<br>\n",
    "    \n",
    "### <span style='font-family:Times New Roman'> Description\n",
    "```Bash\n",
    "함수 fibonacci_seq(num) 를 작성할 것.\n",
    "```\n",
    "<br>\n",
    "    \n",
    "> ##### <li> <span style='font-family:Times New Roman'> 함수동작 </li>\n",
    "```Bash\n",
    "num을 매개변수로 받아서 num까지 피보나치 수열을 구하여 list에 넣고 반환함\n",
    "```\n",
    "\n",
    "> ##### <li> <span style='font-family:Times New Roman'> 매개변수 </li>\n",
    "```Bash\n",
    "num: (int) 출력할 피보나치 수열의 개수\n",
    "```\n",
    "\n",
    "> ##### <li> <span style='font-family:Times New Roman'> 반환값 </li>\n",
    "```Bash\n",
    "(list) 값의 크기가 작은 순서대로 정렬된 피보나치 수열 리스트\n",
    "```\n",
    "<hr>\n",
    "<br>\n",
    "\n",
    "### <span style='font-family:Georgia'> Function Usage Example\n",
    "```Bash\n",
    "print(fibonacci_seq(1))\n",
    "print(fibonacci_seq(3))\n",
    "print(fibonacci_seq(5))\n",
    "```\n",
    "<hr>\n",
    "<br>\n",
    "    \n",
    "### <span style='font-family:Georgia'> Function Running Example\n",
    "```Bash\n",
    "[1]\n",
    "[1, 1, 2]\n",
    "[1, 1, 2, 3, 5]\n",
    "```"
   ]
  },
  {
   "cell_type": "code",
   "execution_count": 1,
   "metadata": {},
   "outputs": [
    {
     "name": "stdout",
     "output_type": "stream",
     "text": [
      "[1]\n",
      "[1, 1, 2]\n",
      "[1, 1, 2, 3, 5]\n",
      "[1, 1, 2, 3, 5, 8, 13, 21, 34, 55, 89, 144, 233, 377, 610, 987, 1597, 2584, 4181, 6765, 10946, 17711, 28657, 46368, 75025, 121393, 196418, 317811, 514229, 832040, 1346269, 2178309, 3524578, 5702887, 9227465, 14930352, 24157817, 39088169, 63245986, 102334155, 165580141, 267914296, 433494437, 701408733, 1134903170, 1836311903, 2971215073, 4807526976, 7778742049, 12586269025, 20365011074, 32951280099, 53316291173, 86267571272, 139583862445, 225851433717, 365435296162, 591286729879, 956722026041, 1548008755920, 2504730781961, 4052739537881, 6557470319842, 10610209857723, 17167680177565, 27777890035288, 44945570212853, 72723460248141, 117669030460994, 190392490709135, 308061521170129, 498454011879264, 806515533049393, 1304969544928657, 2111485077978050, 3416454622906707, 5527939700884757, 8944394323791464, 14472334024676221, 23416728348467685, 37889062373143906, 61305790721611591, 99194853094755497, 160500643816367088, 259695496911122585, 420196140727489673, 679891637638612258, 1100087778366101931, 1779979416004714189, 2880067194370816120, 4660046610375530309, 7540113804746346429, 12200160415121876738, 19740274219868223167, 31940434634990099905, 51680708854858323072, 83621143489848422977, 135301852344706746049, 218922995834555169026, 354224848179261915075]\n"
     ]
    }
   ],
   "source": [
    "# Answer of Problem \n",
    "def fibonacci_seq(number):\n",
    "    seq_list=[0, 1]\n",
    "    while len(seq_list[1:]) < number:\n",
    "        before_two = seq_list[-2]\n",
    "        before_one = seq_list[-1]\n",
    "        seq_list.append(before_two+before_one)\n",
    "    return seq_list[1:]\n",
    "\n",
    "print(fibonacci_seq(1))\n",
    "print(fibonacci_seq(3))\n",
    "print(fibonacci_seq(5))\n",
    "print(fibonacci_seq(100))\n"
   ]
  }
 ],
 "metadata": {
  "kernelspec": {
   "display_name": "Python 3",
   "language": "python",
   "name": "python3"
  },
  "language_info": {
   "codemirror_mode": {
    "name": "ipython",
    "version": 3
   },
   "file_extension": ".py",
   "mimetype": "text/x-python",
   "name": "python",
   "nbconvert_exporter": "python",
   "pygments_lexer": "ipython3",
   "version": "3.7.4"
  }
 },
 "nbformat": 4,
 "nbformat_minor": 2
}
