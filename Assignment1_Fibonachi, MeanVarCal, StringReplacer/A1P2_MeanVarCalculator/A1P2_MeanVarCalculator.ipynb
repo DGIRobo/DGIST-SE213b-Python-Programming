{
 "cells": [
  {
   "cell_type": "markdown",
   "metadata": {},
   "source": [
    "# <span style='font-family:Times New Roman'> Assignment 1 - PROBLEM 2: Mean & Var Calculator\n",
    "<hr>\n",
    "<br>\n",
    "    \n",
    "### <span style='font-family:Times New Roman'> Description\n",
    "```Bash\n",
    "함수 get_mean_var_list(numbers_list)를 아래와 같이 작성하시오.\n",
    "```\n",
    "<br>\n",
    "    \n",
    "> ##### <li> <span style='font-family:Times New Roman'> 함수동작 </li>\n",
    "```Bash\n",
    "이중 리스트를 인자로 받아 내부 리스트마다 각각 평균과 분산을 구해서 튜플로 만들고 이를 리스트에 추가하여 반환\n",
    "```\n",
    "\n",
    "> ##### <li> <span style='font-family:Times New Roman'> 매개변수 </li>\n",
    "```Bash\n",
    "nested_list: numbers: 임의의 길이의 실수 이중 리스트\n",
    "```\n",
    "\n",
    "> ##### <li> <span style='font-family:Times New Roman'> 반환값 </li>\n",
    "```Bash\n",
    "(nested list) 이중 리스트 내부의 각 리스트 마다 구한 평균과 분산을 튜플로 갖는 리스트 반환\n",
    "```\n",
    "<hr>\n",
    "<br>\n",
    "\n",
    "### <span style='font-family:Georgia'> Function Usage Example\n",
    "```Bash\n",
    "get_mean_var_list([[1, 2, 3], [2, 3, 4], [3, 4, 5]])\n",
    "get_mean_var_list([[1, 2, 3, 4, 5], [2, 3, 4, 5, 6], [3, 4, 5, 6, 7]])\n",
    "```\n",
    "<hr>\n",
    "<br>\n",
    "    \n",
    "### <span style='font-family:Georgia'> Function Running Example\n",
    "```Bash\n",
    "[(2.0, 0.666666666666667), (3.0, 0.6666666666666661), (4.0, 0.6666666666666679)]\n",
    "[(3.0, 2.0), (4.0, 2.0), (5.0, 2.0)]\n",
    "```"
   ]
  },
  {
   "cell_type": "code",
   "execution_count": null,
   "metadata": {},
   "outputs": [],
   "source": [
    "# Answer of Problem \n",
    "def get_mean_var_list(numbers_list):\n",
    "    mean_var=[]\n",
    "    for list in numbers_list:\n",
    "        sum = 0\n",
    "        sqaure_sum = 0\n",
    "        for val in list:\n",
    "            sum=sum+val\n",
    "            sqaure_sum=sqaure_sum+val**2\n",
    "        mean_var.append((sum/len(list), sqaure_sum/len(list)-(sum/len(list))**2))\n",
    "    return mean_var\n",
    "\n",
    "print(get_mean_var_list([[1, 2, 3], [2, 3, 4], [3, 4, 5]]))\n",
    "print(get_mean_var_list([[1, 2, 3, 4, 5], [2, 3, 4, 5, 6], [3, 4, 5, 6, 7]]))"
   ]
  }
 ],
 "metadata": {
  "kernelspec": {
   "display_name": "Python 3",
   "language": "python",
   "name": "python3"
  },
  "language_info": {
   "codemirror_mode": {
    "name": "ipython",
    "version": 3
   },
   "file_extension": ".py",
   "mimetype": "text/x-python",
   "name": "python",
   "nbconvert_exporter": "python",
   "pygments_lexer": "ipython3",
   "version": "3.7.4"
  }
 },
 "nbformat": 4,
 "nbformat_minor": 2
}
