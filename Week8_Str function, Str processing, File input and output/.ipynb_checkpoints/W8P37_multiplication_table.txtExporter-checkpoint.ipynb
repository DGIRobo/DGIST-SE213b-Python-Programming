{
 "cells": [
  {
   "cell_type": "markdown",
   "metadata": {},
   "source": [
    "# <span style='font-family:Times New Roman'> WEEK 8 - PROBLEM 37: multiplication_table.txt Exporter\n",
    "<hr>\n",
    "<br>\n",
    "    \n",
    "### <span style='font-family:Times New Roman'> Description\n",
    "```Bash\n",
    "이전 실습 문제인 구구단 전체 출력을 화면이 아닌 인자로 넘겨 받은 텍스트 파일에 출력해 보시오. 본문의 코드를 실행하면 파일로 부터 값을 읽어와서 화면에 출력함.\n",
    "\n",
    "함수 write_file(f_name) 는 반환값이 없는 함수로 인자로 받은 파일이름(예:multiplication_table.txt)으로 파일을 열고 구구단을 파일에 출력후 종료되는 함수를 작성하시오.\n",
    "\n",
    "Lab #6에서 사용한 함수를 복사해서 재사용 가능합니다. 다만, 출력형태를 아래와 같이 바꿔야합니다. 출력시, string format(or f String)을 이용하여 최소길이를 3으로 주면 해결됩니다.\n",
    "```\n",
    "<hr>\n",
    "<br>\n",
    "\n",
    "### <span style='font-family:Times New Roman'> Hint\n",
    "<br>\n",
    "\n",
    "> ##### <li> <span style='font-family:Times New Roman'> 함수동작 </li>\n",
    "```Bash\n",
    "구구단을 파일(f_name)에 출력\n",
    "```\n",
    "\n",
    "> ##### <li> <span style='font-family:Times New Roman'> 매개변수 </li>\n",
    "```Bash\n",
    "f_name: (str) 파일 이름\n",
    "```\n",
    "\n",
    "> ##### <li> <span style='font-family:Times New Roman'> 반환값 </li>\n",
    "```Bash\n",
    "없음(None)\n",
    "```\n",
    "<hr>\n",
    "<br>\n",
    "\n",
    "### <span style='font-family:Georgia'> Code Running Example: 함수 read_file(f_name)을 통해서 저장된 파일 내용을 출력함\n",
    "```Bash\n",
    "  1  2  3  4  5  6  7  8  9\n",
    "  2  4  6  8 10 12 14 16 18\n",
    "  3  6  9 12 15 18 21 24 27\n",
    "  4  8 12 16 20 24 28 32 36\n",
    "  5 10 15 20 25 30 35 40 45\n",
    "  6 12 18 24 30 36 42 48 54\n",
    "  7 14 21 28 35 42 49 56 63\n",
    "  8 16 24 32 40 48 56 64 72\n",
    "  9 18 27 36 45 54 63 72 81\n",
    "```"
   ]
  },
  {
   "cell_type": "code",
   "execution_count": null,
   "metadata": {},
   "outputs": [],
   "source": [
    "# Answer of Problem \n",
    "\"\"\" 파일에 구구단을 출력하는 함수 wirte_file을 작성하시오. \"\"\"\n",
    "def write_file(f_name):\n",
    "    with open(f_name, \"wt\") as f:\n",
    "        for left in range(1,10):\n",
    "            for right in range(1, 10):\n",
    "                print('%3d' % (right*left), end='', file=f)\n",
    "            print(\"\", file=f)\n",
    "\n",
    "def read_file(f_name):\n",
    "    with open(f_name, \"rt\") as f:\n",
    "        print(f.read())\n",
    "\n",
    "f_name = \"multiplication_table.txt\"\n",
    "write_file(f_name)\n",
    "read_file(f_name)\n"
   ]
  }
 ],
 "metadata": {
  "kernelspec": {
   "display_name": "Python 3",
   "language": "python",
   "name": "python3"
  },
  "language_info": {
   "codemirror_mode": {
    "name": "ipython",
    "version": 3
   },
   "file_extension": ".py",
   "mimetype": "text/x-python",
   "name": "python",
   "nbconvert_exporter": "python",
   "pygments_lexer": "ipython3",
   "version": "3.7.4"
  }
 },
 "nbformat": 4,
 "nbformat_minor": 2
}
