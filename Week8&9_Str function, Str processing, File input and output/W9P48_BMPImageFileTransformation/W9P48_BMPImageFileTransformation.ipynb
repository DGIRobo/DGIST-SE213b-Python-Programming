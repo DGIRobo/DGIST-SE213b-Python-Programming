{
 "cells": [
  {
   "cell_type": "markdown",
   "metadata": {},
   "source": [
    "# <span style='font-family:Times New Roman'> WEEK 9 - PROBLEM 48: BMP Image File Transformation\n",
    "<hr>\n",
    "<br>\n",
    "    \n",
    "### <span style='font-family:Times New Roman'> Description\n",
    "```Bash\n",
    "이 파일이 위치한 디렉토리에 아래와 같은 비트맵 이미지 파일(original.bmp)이 있다. 이미지에 하트 모양이 표시되도록 이미지를 변경하시오.\n",
    "```\n",
    "    \n",
    "<img src=\"init.bmp\" alt=\"Inital Image\" width=\"200\"/>"
   ]
  },
  {
   "cell_type": "code",
   "execution_count": null,
   "metadata": {},
   "outputs": [],
   "source": [
    "# Answer of Problem (미완인 code임. -> 하트로 바꿔주는 부분만 추가하면 완성됨.)\n",
    "with open(\"original.bmp\", \"rb\") as f:\n",
    "    data = f.read()\n",
    "\n",
    "# print(len(data))\n",
    "# print(data)\n",
    "new_data = data[:-512]\n",
    "new_data+=data[-512:].replace(b\"\\xff\", b\"\\xff\")\n",
    "\n",
    "with open(\"original.bmp\", \"wb\") as f:\n",
    "    if len(new_data) == 630:\n",
    "        f.write(new_data)\n",
    "        print(\"end\")\n",
    "    else :\n",
    "        print(\"file size error\")\n"
   ]
  }
 ],
 "metadata": {
  "kernelspec": {
   "display_name": "Python 3",
   "language": "python",
   "name": "python3"
  },
  "language_info": {
   "codemirror_mode": {
    "name": "ipython",
    "version": 3
   },
   "file_extension": ".py",
   "mimetype": "text/x-python",
   "name": "python",
   "nbconvert_exporter": "python",
   "pygments_lexer": "ipython3",
   "version": "3.7.4"
  }
 },
 "nbformat": 4,
 "nbformat_minor": 2
}
