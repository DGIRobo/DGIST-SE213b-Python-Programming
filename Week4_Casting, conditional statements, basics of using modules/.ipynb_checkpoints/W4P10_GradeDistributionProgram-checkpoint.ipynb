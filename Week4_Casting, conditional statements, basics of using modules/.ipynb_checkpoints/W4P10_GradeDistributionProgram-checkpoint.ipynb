{
 "cells": [
  {
   "cell_type": "markdown",
   "metadata": {},
   "source": [
    "# <span style='font-family:Times New Roman'> WEEK 4 - PROBLEM 10: Grade Distribution Program \n",
    "<hr>\n",
    "<br>\n",
    "    \n",
    "### <span style='font-family:Times New Roman'> Description\n",
    "```Bash\n",
    "사용자에게 성적을 입력받아서, 해당되는 학점을 출력하도록 작성할 것. 단, 성적이 90점 ~ 100점일 경우, A+ 부여한다. 성적이 80점 ~ 89점일 경우, B+ 부여한다. 성적이 70점 ~ 79점일 경우, C+ 부여한다. 성적이 69점 밑일 경우, F 부여한다.\n",
    "```\n",
    "<hr>\n",
    "<br>\n",
    "\n",
    "### <span style='font-family:Georgia'> Code Running Example\n",
    "```Bash\n",
    "Enter your score: 100\n",
    "Your grade is A+\n",
    "```"
   ]
  },
  {
   "cell_type": "code",
   "execution_count": null,
   "metadata": {},
   "outputs": [],
   "source": [
    "# Answer of Problem \n",
    "score = float(input('Enter your score: '))\n",
    "\n",
    "if score>=90:\n",
    "    print('Your grade is A+')\n",
    "elif score>=80:\n",
    "    print('Your grade is B+')\n",
    "elif score>=70:\n",
    "    print('Your grade is C+')\n",
    "elif score<=69:\n",
    "    print('Your grade is F')"
   ]
  }
 ],
 "metadata": {
  "kernelspec": {
   "display_name": "Python 3",
   "language": "python",
   "name": "python3"
  },
  "language_info": {
   "codemirror_mode": {
    "name": "ipython",
    "version": 3
   },
   "file_extension": ".py",
   "mimetype": "text/x-python",
   "name": "python",
   "nbconvert_exporter": "python",
   "pygments_lexer": "ipython3",
   "version": "3.7.4"
  }
 },
 "nbformat": 4,
 "nbformat_minor": 2
}
