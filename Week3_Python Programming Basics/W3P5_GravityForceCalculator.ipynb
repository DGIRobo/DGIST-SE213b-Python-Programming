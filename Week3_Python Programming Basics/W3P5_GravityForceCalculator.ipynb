{
 "cells": [
  {
   "cell_type": "markdown",
   "metadata": {},
   "source": [
    "# <span style='font-family:Times New Roman'> WEEK 3 - PROBLEM 5: Gravity Force Calculator\n",
    "<hr>\n",
    "<br>\n",
    "    \n",
    "### <span style='font-family:Times New Roman'> Description\n",
    "```Bash\n",
    "사용자에게 두 물체의 질량과 거리를 입력받아, 만유인력에 의해 가해지는 힘을 계산하는 프로그램을 작성할 것. 만유인력의 공식과 중력상수 G의 값은 아래와 같다.\n",
    "G = 6.67384e-11\n",
    "```\n",
    "<hr>\n",
    "<br>\n",
    "\n",
    "### <span style='font-family:Georgia'> Code Running Example\n",
    "```Bash\n",
    "Enter the mass of object 1 (kg): 5.972e24\n",
    "Enter the mass of object 2 (kg): 1.989e30\n",
    "Enter the distance between object 1 and object 2 (m): 1.496e11\n",
    "The force between the object 1 and object 2 is 3.5421519355858043e+22 N\n",
    "```"
   ]
  },
  {
   "cell_type": "code",
   "execution_count": null,
   "metadata": {},
   "outputs": [],
   "source": [
    "# Answer of Problem \n",
    "mass1 = float(input('Enter the mass of object 1  (kg) : '))\n",
    "mass2 = float(input('\\nEnter the mass of object 2  (kg) : '))\n",
    "distance = float(input('\\nEnter the distance between object 1 and object 2 (m) : '))\n",
    "force = (6.67384e-11)*(mass1*mass2)/(distance*distance)\n",
    "print('The force between the object 1 and object 2 is' , force , 'N')"
   ]
  }
 ],
 "metadata": {
  "kernelspec": {
   "display_name": "Python 3",
   "language": "python",
   "name": "python3"
  },
  "language_info": {
   "codemirror_mode": {
    "name": "ipython",
    "version": 3
   },
   "file_extension": ".py",
   "mimetype": "text/x-python",
   "name": "python",
   "nbconvert_exporter": "python",
   "pygments_lexer": "ipython3",
   "version": "3.7.4"
  }
 },
 "nbformat": 4,
 "nbformat_minor": 2
}
