{
 "cells": [
  {
   "cell_type": "markdown",
   "metadata": {},
   "source": [
    "# <span style='font-family:Times New Roman'> Assignment 2 - PROBLEM 2: Population of Country Analyzer\n",
    "<hr>\n",
    "<br>\n",
    "    \n",
    "### <span style='font-family:Times New Roman'> Description\n",
    "```Bash\n",
    "국가별 인구수 저장되어 있는 csv형식의 파일(엑셀로 열수 있는 콤마로 구분된 파일)(population.csv)에서 국가별 인구수를 가져와서, 화면에 인구수가 가장 많은 국가, 중위에 해당하는 국가를 출력하고 국가별 인구수의 평균을 출력하는 함수get_population()을 작성하시오.\n",
    "```\n",
    "<hr>\n",
    "<br>\n",
    "\n",
    "### <span style='font-family:Times New Roman'> 함수 get_population()\n",
    "<br>\n",
    "    \n",
    "> ##### <li> <span style='font-family:Times New Roman'> 함수동작 </li>\n",
    "```Bash\n",
    "파일(population.csv)에서 인구수가 가장 많은 국가이름과 인구수를 출력하고\n",
    "인구수의 median에 해당하는 국가와 인구수를 출력하고\n",
    "Average 인구수를 소수점 2자리까지 출력하는 함수를 작성하시오\n",
    "```\n",
    "\n",
    "> ##### <li> <span style='font-family:Times New Roman'> 매개변수 </li>\n",
    "```Bash\n",
    "없음\n",
    "```\n",
    "\n",
    "> ##### <li> <span style='font-family:Times New Roman'> 반환값 </li>\n",
    "```Bash\n",
    "없음\n",
    "```\n",
    "<hr>\n",
    "<br>\n",
    "\n",
    "### <span style='font-family:Georgia'> Function Usage Example\n",
    "```Bash\n",
    "get_population()\n",
    "```\n",
    "<hr>\n",
    "<br>\n",
    "    \n",
    "### <span style='font-family:Georgia'> Function Running Example\n",
    "```Bash\n",
    "China:1402393160\n",
    "Costa Rica:5058007\n",
    "Average:31787881\n",
    "```"
   ]
  },
  {
   "cell_type": "code",
   "execution_count": 2,
   "metadata": {},
   "outputs": [
    {
     "name": "stdout",
     "output_type": "stream",
     "text": [
      "China:1402393160\n",
      "Costa Rica:5058007\n",
      "Average:31787880.86\n"
     ]
    }
   ],
   "source": [
    "# Answer of Problem \n",
    "def get_population():\n",
    "    '''get data from population.csv'''\n",
    "    population_dict = {}\n",
    "    big_country = ''\n",
    "    big_population = 0\n",
    "    population_sum = 0\n",
    "    with open('population.csv', 'rb') as f:\n",
    "        population_chart = f.read()\n",
    "\n",
    "    '''data processing'''\n",
    "    chart_list = population_chart.split(b'\\n')\n",
    "    for country_data in chart_list[1:-1]:\n",
    "        #print(country_data)\n",
    "        rank, country, population, *others = country_data.split(b',')\n",
    "        #print(country, population)\n",
    "        population_dict[country] = int(population)\n",
    "        population_sum += int(population)\n",
    "\n",
    "        '''printing country and population most people live in'''\n",
    "        if int(population) > big_population:\n",
    "            big_country = country.decode('ascii')\n",
    "            big_population = int(population)\n",
    "    print('%s' % big_country[1:] + ':' + '%s' % big_population)\n",
    "\n",
    "    '''printing country and population of median populaion'''\n",
    "    Sorted_population_list = sorted(population_dict.items(), key=lambda x: x[1])\n",
    "    if len(Sorted_population_list)%2 == 0:\n",
    "        print(\"There's no median country. The median value is in the scope between\", Sorted_population_list[int(len(Sorted_population_list) / 2) - 1], 'and', Sorted_population_list[int(len(Sorted_population_list) / 2)] )\n",
    "    else:\n",
    "        median_country, median_population = Sorted_population_list[int((len(Sorted_population_list) + 1) / 2 - 1)]\n",
    "    median_country = median_country.decode('ascii')\n",
    "    print(median_country[1:] + ':' + '%s' % median_population)\n",
    "\n",
    "    '''printing Average population'''\n",
    "    Average_population = population_sum/len(population_dict)\n",
    "    print('Average:' + '%.2f' % Average_population)\n",
    "    #print(len(Sorted_population_list))\n",
    "\n",
    "get_population()\n"
   ]
  }
 ],
 "metadata": {
  "kernelspec": {
   "display_name": "Python 3",
   "language": "python",
   "name": "python3"
  },
  "language_info": {
   "codemirror_mode": {
    "name": "ipython",
    "version": 3
   },
   "file_extension": ".py",
   "mimetype": "text/x-python",
   "name": "python",
   "nbconvert_exporter": "python",
   "pygments_lexer": "ipython3",
   "version": "3.7.4"
  }
 },
 "nbformat": 4,
 "nbformat_minor": 2
}
