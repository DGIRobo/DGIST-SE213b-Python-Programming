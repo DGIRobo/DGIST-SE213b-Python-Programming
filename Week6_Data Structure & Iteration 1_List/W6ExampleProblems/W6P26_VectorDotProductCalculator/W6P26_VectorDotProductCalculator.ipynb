{
 "cells": [
  {
   "cell_type": "markdown",
   "metadata": {},
   "source": [
    "# <span style='font-family:Times New Roman'> WEEK 6 - PROBLEM 26: Vector Dot Product Calculator\n",
    "<hr>\n",
    "<br>\n",
    "    \n",
    "### <span style='font-family:Times New Roman'> Description\n",
    "```Bash\n",
    "다중 리스트에 있는 두 개의 벡터의 내적을 계산하는 inner_product(v1, v2)를 구현하시오.\n",
    "```\n",
    "<br>\n",
    "\n",
    "> ##### <li> <span style='font-family:Times New Roman'> 함수의 동작 </li>\n",
    "```Bash\n",
    "두개의 벡터(v1:리스트, v2:리스트)의 길이 동일한 경우, 내적한 결과값을 반환하고 다른 경우 \"can't calculate\"를 반환\n",
    "```\n",
    "\n",
    "> ##### <li> <span style='font-family:Times New Roman'> 매개변수 </li>\n",
    "```Bash\n",
    "v1:(list) 연산을 원하는 벡터값이 리스트 형태로 저장\n",
    "v2:(list) 연산을 원하는 벡터값이 리스트 형태로 저장\n",
    "```\n",
    "    \n",
    "> ##### <li> <span style='font-family:Times New Roman'> 반환값 </li>\n",
    "```Bash\n",
    "내적한 결과값을 반환\n",
    "두 벡터의 길이가 다르면 \"can't calculate\" 반환\n",
    "```\n",
    "<hr>\n",
    "<br>\n",
    "    \n",
    "### <span style='font-family:Georgia'> Function usage example\n",
    "```Bash\n",
    "v1 = [1,0,1]\n",
    "v2 = [1,1,1]\n",
    "print(inner_product(v1, v2))\n",
    "v1 = [2,1]\n",
    "v2 = [-1,2]\n",
    "print(inner_product(v1, v2))\n",
    "v1 = [2,1]\n",
    "v2 = [-1]\n",
    "print(inner_product(v1, v2))\n",
    "```\n",
    "<hr>\n",
    "<br>\n",
    "\n",
    "### <span style='font-family:Georgia'> Function Running Example\n",
    "```Bash\n",
    "2\n",
    "0\n",
    "can't calculate\n",
    "```"
   ]
  },
  {
   "cell_type": "code",
   "execution_count": null,
   "metadata": {},
   "outputs": [],
   "source": [
    "# Answer of Problem \n",
    "def inner_product(v1, v2):\n",
    "    if len(v1) == len(v2):\n",
    "        result=0\n",
    "        for value in range(len(v1)):\n",
    "            result+=v1[value]*v2[value]\n",
    "        return result\n",
    "    else:\n",
    "        return \"can't calculate\"\n",
    "    \n",
    "v1 = [1,0,1]\n",
    "v2 = [1,1,1]\n",
    "print(inner_product(v1, v2))\n",
    "v1 = [2,1]\n",
    "v2 = [-1,2]\n",
    "print(inner_product(v1, v2))\n",
    "v1 = [2,1]\n",
    "v2 = [-1]\n",
    "print(inner_product(v1, v2))"
   ]
  }
 ],
 "metadata": {
  "kernelspec": {
   "display_name": "Python 3",
   "language": "python",
   "name": "python3"
  },
  "language_info": {
   "codemirror_mode": {
    "name": "ipython",
    "version": 3
   },
   "file_extension": ".py",
   "mimetype": "text/x-python",
   "name": "python",
   "nbconvert_exporter": "python",
   "pygments_lexer": "ipython3",
   "version": "3.7.4"
  }
 },
 "nbformat": 4,
 "nbformat_minor": 2
}
