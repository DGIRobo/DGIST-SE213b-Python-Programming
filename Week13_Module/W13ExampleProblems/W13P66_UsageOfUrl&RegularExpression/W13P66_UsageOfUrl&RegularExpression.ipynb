{
 "cells": [
  {
   "cell_type": "markdown",
   "metadata": {},
   "source": [
    "# <span style='font-family:Times New Roman'> WEEK 13 - PROBLEM 66: Url / regular expression의 사용\n",
    "<hr>\n",
    "<br>\n",
    "    \n",
    "### <span style='font-family:Times New Roman'> Description\n",
    "```Bash\n",
    "test 페이지에서 원하는 값을 가져오는 방법\n",
    "```"
   ]
  },
  {
   "cell_type": "code",
   "execution_count": null,
   "metadata": {},
   "outputs": [],
   "source": [
    "# Answer of Problem \n",
    "from urllib.request import urlopen\n",
    "import re\n",
    "\n",
    "with urlopen('http://10.180.2.80/test.html') as f:\n",
    "    txt = f.read() # return byte string\n",
    "\n",
    "print(txt)\n",
    "print(txt.decode('utf-8'))\n",
    "\n",
    "for sentence in txt.decode('utf-8').splitlines():\n",
    "    print(sentence)\n",
    "    if sentence.startswith('Contact: ') :\n",
    "         phone = sentence[9:]\n",
    "print(phone)\n",
    "\n",
    "with urlopen('http://10.180.2.80/test.html') as f:\n",
    "    txt = f.read().decode('utf-8')\n",
    "print(re.findall(\"[가-힣]+\", txt))\n",
    "print(re.findall(\"날씨[ ]*:[ ]*[가-힣]+\", txt))\n",
    "print(re.findall(\"날씨[ ]*:[ ]*([가-힣]+)\", txt))\n",
    "print(re.findall(\"([가-힣]+)[ ]*:[ ]*([가-힣]+)\", txt))"
   ]
  }
 ],
 "metadata": {
  "kernelspec": {
   "display_name": "Python 3",
   "language": "python",
   "name": "python3"
  },
  "language_info": {
   "codemirror_mode": {
    "name": "ipython",
    "version": 3
   },
   "file_extension": ".py",
   "mimetype": "text/x-python",
   "name": "python",
   "nbconvert_exporter": "python",
   "pygments_lexer": "ipython3",
   "version": "3.7.4"
  }
 },
 "nbformat": 4,
 "nbformat_minor": 2
}
