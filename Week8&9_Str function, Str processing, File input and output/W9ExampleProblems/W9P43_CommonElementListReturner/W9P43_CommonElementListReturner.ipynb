{
 "cells": [
  {
   "cell_type": "markdown",
   "metadata": {},
   "source": [
    "# <span style='font-family:Times New Roman'> WEEK 9 - PROBLEM 43: Common element list returner \n",
    "<hr>\n",
    "<br>\n",
    "    \n",
    "### <span style='font-family:Times New Roman'> Description\n",
    "```Bash\n",
    "두 개의 시퀀스를 인자로 받아 두 리스트의 공통된 원소를 정렬된 순서대로 반환하는 함수 common_items(sequence1, sequence2, reverse=False) 를 만드시오.\n",
    "```\n",
    "<br>\n",
    "\n",
    "> ##### <li> <span style='font-family:Times New Roman'> 함수동작 </li>\n",
    "```Bash\n",
    "sequnce1과 sequence2를 받아서 공통 요소를 찾아서 정렬된리스트로 반환함\n",
    "```\n",
    "    \n",
    "> ##### <li> <span style='font-family:Times New Roman'> 매개변수 </li>\n",
    "```Bash\n",
    "sequence1: 임의의 시퀀스 (list, tuple, str)\n",
    "sequence2: 임의의 시퀀스 (list, tuple, str)\n",
    "reverse: bool. 정렬 순서를 역순으로 할 지를 지정.\n",
    "   - True: 정렬을 역순으로(큰 순서에서 작은 순, 혹은 알파벳을 거꾸로) 함\n",
    "   - False: 정렬을 순서대로 함\n",
    "```\n",
    "\n",
    "> ##### <li> <span style='font-family:Times New Roman'> 반환값 </li>\n",
    "```Bash\n",
    "(리스트) 공통된 원소를 포함하는 리스트\n",
    "공통된 원소가 없는 경우에는 빈 리스트를 반환\n",
    "```\n",
    "<hr>\n",
    "<br>\n",
    "\n",
    "### <span style='font-family:Georgia'> Function Usage Example\n",
    "```Bash\n",
    "print(common_items('abracadabra', 'surisurimasuri'))\n",
    "print(common_items('abracadabra', 'surisurimasuri', True))\n",
    "print(common_items([42, 1024, 23], [6, 28, 496]))\n",
    "print(common_items([2, 3, 5, 7], [1, 1, 2, 3, 5, 8]))\n",
    "print(common_items([2, 3, 5, 7], [1, 1, 2, 3, 5, 8], False))\n",
    "print(common_items([2, 3, 5, 7], (1, 1, 2, 3, 5, 8)))\n",
    "```\n",
    "<hr>\n",
    "<br>\n",
    "\n",
    "### <span style='font-family:Georgia'> Function Running Example\n",
    "```Bash\n",
    "['a', 'r']\n",
    "['r', 'a']\n",
    "[]\n",
    "[2, 3, 5]\n",
    "[2, 3, 5]\n",
    "[2, 3, 5]\n",
    "```"
   ]
  },
  {
   "cell_type": "code",
   "execution_count": null,
   "metadata": {},
   "outputs": [],
   "source": [
    "# Answer of Problem \n",
    "def common_items(sequence1, sequence2, reverse=False):\n",
    "    \"\"\"Return sorted list of the common items of sequence1 and sequence2\"\"\"\n",
    "    new_set = set(sequence1) & set(sequence2)\n",
    "    new_list = list(new_set)\n",
    "    if reverse == True:    new_list.sort(key = None, reverse = True)\n",
    "    else:    new_list.sort(key = None, reverse = False)\n",
    "    return new_list\n",
    "\n",
    "print(common_items('abracadabra', 'surisurimasuri'))\n",
    "print(common_items('abracadabra', 'surisurimasuri', True))\n",
    "print(common_items([42, 1024, 23], [6, 28, 496]))\n",
    "print(common_items([2, 3, 5, 7], [1, 1, 2, 3, 5, 8]))\n",
    "print(common_items([2, 3, 5, 7], [1, 1, 2, 3, 5, 8], False))\n",
    "print(common_items([2, 3, 5, 7], (1, 1, 2, 3, 5, 8)))\n"
   ]
  }
 ],
 "metadata": {
  "kernelspec": {
   "display_name": "Python 3",
   "language": "python",
   "name": "python3"
  },
  "language_info": {
   "codemirror_mode": {
    "name": "ipython",
    "version": 3
   },
   "file_extension": ".py",
   "mimetype": "text/x-python",
   "name": "python",
   "nbconvert_exporter": "python",
   "pygments_lexer": "ipython3",
   "version": "3.7.4"
  }
 },
 "nbformat": 4,
 "nbformat_minor": 2
}
