{
 "cells": [
  {
   "cell_type": "markdown",
   "metadata": {},
   "source": [
    "# <span style='font-family:Times New Roman'> WEEK 13 - PROBLEM 62: E-mail address of Str Finder\n",
    "<hr>\n",
    "<br>\n",
    "    \n",
    "### <span style='font-family:Times New Roman'> Description\n",
    "```Bash\n",
    "e-mail 주소는 id@website.(com/co.kr/net/ac.kr ..) 등의 양식을 갖고 있다. 주어진 문자열에서 e-mail 주소를 인식하여 리스트를 반환하는 getEmailAddr(txt)을 작성하시오.\n",
    "```\n",
    "<hr>\n",
    "<br>\n",
    "    \n",
    "### <span style='font-family:Times New Roman'> getEmailAddr(txt) 함수\n",
    "<br>\n",
    "    \n",
    "> ##### <li> <span style='font-family:Times New Roman'> 함수동작 </li>\n",
    "```Bash\n",
    "문자열에서 e-mail 주소를 찾아 리스트로 반환\n",
    "단, e-mail 주소의 site 부분은 최소 하나의 . 문자를 포함\n",
    "```\n",
    "    \n",
    "> ##### <li> <span style='font-family:Times New Roman'> 매개변수 </li>\n",
    "```Bash\n",
    "txt: e-mail 주소가 0개 이상 포함되어 있는 문자열\n",
    "```\n",
    "    \n",
    "> ##### <li> <span style='font-family:Times New Roman'> 반환값 </li>\n",
    "```Bash\n",
    "모든 e-mail 주소(문자열)를 포함한 리스트\n",
    "```\n",
    "<hr>\n",
    "<br>\n",
    "\n",
    "### <span style='font-family:Georgia'> Function Usage Example\n",
    "```Bash\n",
    "txt= \"If you have any questions, please contact via abc@naver.com or abc@dgist.ac.kr\"\n",
    "print(getEmailAddr(txt))\n",
    "\n",
    "txt= \"No e-mail address aaa@bbb\"\n",
    "print(getEmailAddr(txt))\n",
    "```\n",
    "<hr>\n",
    "<br>\n",
    "\n",
    "### <span style='font-family:Georgia'> Function Running Example\n",
    "```Bash\n",
    "['abc@naver.com', 'abc@dgist.ac.kr']\n",
    "[]\n",
    "```"
   ]
  },
  {
   "cell_type": "code",
   "execution_count": null,
   "metadata": {},
   "outputs": [],
   "source": [
    "# Answer of Problem \n",
    "import re\n",
    "\n",
    "def getEmailAddr(txt):\n",
    "    \"\"\"return the list of id of e-mail\"\"\"\n",
    "    emails = re.findall('[a-zA-Z0-9]{1,}@[a-z]{1,}[.]{1}[a-z.]{1,}', txt)\n",
    "    return emails\n",
    "\n",
    "if __name__ == '__main__':\n",
    "\ttxt= \"If you have any questions, please contact via abc@naver.com or abc@dgist.ac.kr\"\n",
    "\tprint(getEmailAddr(txt))\n",
    "\n",
    "\ttxt= \"No e-mail address aaa@bbb\"\n",
    "\tprint(getEmailAddr(txt))\n"
   ]
  }
 ],
 "metadata": {
  "kernelspec": {
   "display_name": "Python 3",
   "language": "python",
   "name": "python3"
  },
  "language_info": {
   "codemirror_mode": {
    "name": "ipython",
    "version": 3
   },
   "file_extension": ".py",
   "mimetype": "text/x-python",
   "name": "python",
   "nbconvert_exporter": "python",
   "pygments_lexer": "ipython3",
   "version": "3.7.4"
  }
 },
 "nbformat": 4,
 "nbformat_minor": 2
}
