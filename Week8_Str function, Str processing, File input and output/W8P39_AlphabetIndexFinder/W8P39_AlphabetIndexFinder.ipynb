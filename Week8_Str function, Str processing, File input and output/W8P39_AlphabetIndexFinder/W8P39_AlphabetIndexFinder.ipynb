{
 "cells": [
  {
   "cell_type": "markdown",
   "metadata": {},
   "source": [
    "# <span style='font-family:Times New Roman'> WEEK 8 - PROBLEM 39: Alphabet Index Finder  \n",
    "<hr>\n",
    "<br>\n",
    "    \n",
    "### <span style='font-family:Times New Roman'> Description\n",
    "```Bash\n",
    "문자열은 str.index(x)라는 문자열 함수를 제공하고 있다. index()는 x 문자가 문자열에 존재하지 않는 경우에 ValueError를 발생시킨다. 문자열 함수를 대신할 수 있는 함수 index()를 구현하시오.\n",
    "\n",
    "주의\n",
    "다양한 find, rfind, index, rindex 함수를 이용하지 말것\n",
    "대소문자를 구분하지 않고 찾음\n",
    "```\n",
    "<hr>\n",
    "<br>\n",
    "\n",
    "### <span style='font-family:Times New Roman'> Hint\n",
    "<br>\n",
    "\n",
    "> ##### <li> <span style='font-family:Times New Roman'> 함수동작 </li>\n",
    "```Bash\n",
    "함수는 sentence(문자열)과 찾고자하는 x라는 문자열을 인자로 받아서\n",
    "sentence 안에 x라는 문자열이 대소문자 구분없이 처음 나오는 index 값을 반환\n",
    "만약 x라는 문자열이 sentence 문자열에 없는 경우 -1을 반환\n",
    "```\n",
    "\n",
    "> ##### <li> <span style='font-family:Times New Roman'> 매개변수 </li>\n",
    "```Bash\n",
    "sentence: (문자열) 검색하고자 하는 문자열\n",
    "x : (문자열) sensntace 안에서 찾고자 하는 문자열\n",
    "```\n",
    "    \n",
    "> ##### <li> <span style='font-family:Times New Roman'> 반환값 </li>\n",
    "```Bash\n",
    "(int) sentence 문자열에서 x라는 문자열이 나오는 첫번째 index 반환 (없는 경우 -1 반환)\n",
    "```\n",
    "<hr>\n",
    "<br>\n",
    "\n",
    "### <span style='font-family:Georgia'> Function Usage Example\n",
    "```Python\n",
    "print(index(\"First, solve the problem. Then, write the code.\", \"first\"))\n",
    "print(index(\"Without requirements or design, programming is the art of adding bugs to an empty text file.\", \"first\"))\n",
    "print(index(\"Computers are good at following instructions, but not at reading your mind.\", \"m\"))\n",
    "print(index(\"Always code as if the guy who ends up maintaining your code will be a violent psychopath who knows where you live.\", \"psychopath\"))\n",
    "```\n",
    "<hr>\n",
    "<br>\n",
    "\n",
    "### <span style='font-family:Georgia'> Function Running Example\n",
    "```Bash\n",
    "0\n",
    "-1\n",
    "2\n",
    "78\n",
    "```"
   ]
  },
  {
   "cell_type": "code",
   "execution_count": null,
   "metadata": {},
   "outputs": [],
   "source": [
    "# Answer of Problem \n",
    "def index(sentence, x):\n",
    "    reference = sentence.lower()\n",
    "    pivot = x.lower()\n",
    "    for alphabet in range(len(reference)):\n",
    "        if reference[alphabet:alphabet + len(x)] == x:\n",
    "            return alphabet\n",
    "    return -1\n",
    "\n",
    "print(index(\"First, solve the problem. Then, write the code.\", \"first\"))\n",
    "print(index(\"Without requirements or design, programming is the art of adding bugs to an empty text file.\", \"first\"))\n",
    "print(index(\"Computers are good at following instructions, but not at reading your mind.\", \"m\"))\n",
    "print(index(\"Always code as if the guy who ends up maintaining your code will be a violent psychopath who knows where you live.\", \"psychopath\"))\n"
   ]
  }
 ],
 "metadata": {
  "kernelspec": {
   "display_name": "Python 3",
   "language": "python",
   "name": "python3"
  },
  "language_info": {
   "codemirror_mode": {
    "name": "ipython",
    "version": 3
   },
   "file_extension": ".py",
   "mimetype": "text/x-python",
   "name": "python",
   "nbconvert_exporter": "python",
   "pygments_lexer": "ipython3",
   "version": "3.7.4"
  }
 },
 "nbformat": 4,
 "nbformat_minor": 2
}
