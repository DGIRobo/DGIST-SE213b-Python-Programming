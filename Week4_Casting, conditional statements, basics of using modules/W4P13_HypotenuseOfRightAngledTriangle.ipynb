{
 "cells": [
  {
   "cell_type": "markdown",
   "metadata": {},
   "source": [
    "# <span style='font-family:Times New Roman'> WEEK 4 - PROBLEM 13: hypotenuse of right angled triangle \n",
    "<hr>\n",
    "<br>\n",
    "    \n",
    "### <span style='font-family:Times New Roman'> Description\n",
    "```Bash\n",
    "직각 삼각형 빗변을 제외한 한 변의 길이와 그 끼인각을 알면, 빗변의 길이를 구할 수 있다. 사용자로 부터 한변의 길이와 각도를 입력 받아 빗변의 길이를 계산하는 프로그램을 작성하시오.\n",
    "\n",
    "삼각형 ABC가 있고, 변AB의 길이가 c, 변BC의 길이가 a, 변 AC의 길이가 b이다.\n",
    "\n",
    "* 주의: 삼각함수를 사용하기 위해서 math 모듈을 사용하시오.\n",
    "\n",
    "https://docs.python.org/ko/3/library/math.html\n",
    "math.cos( input_radian )\n",
    "math.radians( input_degree ) # 입력받은 degree를 radian으로 변경하는 함수\n",
    "한변의 길이가 0 또는 음수인 경우, Incorrect input. 을 출력하시오.\n",
    "끼인 각이 0도 보다 크지 않거나 90도 보다 작지 않은 경우, Incorrect input. 을 출력하시오.\n",
    "```\n",
    "<hr>\n",
    "<br>\n",
    "\n",
    "### <span style='font-family:Georgia'> Code Running Example 1\n",
    "```Bash\n",
    "Enter the length of a side(b) of the right triangle: 1\n",
    "Enter the degree of the angle(BAC): 45\n",
    "1.414213562373095\n",
    "```\n",
    "<hr>\n",
    "<br>\n",
    "\n",
    "### <span style='font-family:Georgia'> Code Running Example 2\n",
    "```Bash\n",
    "Enter the length of a side(b) of the right triangle: 1\n",
    "Enter the degree of the angle(BAC): 100\n",
    "Incorrect input.\n",
    "```\n",
    "<hr>\n",
    "<br>\n",
    "\n",
    "### <span style='font-family:Georgia'> Code Running Example 3\n",
    "```Bash\n",
    "Enter the length of a side(b) of the right triangle: -1\n",
    "Enter the degree of the angle(BAC): 100\n",
    "Incorrect input.\n",
    "```"
   ]
  },
  {
   "cell_type": "code",
   "execution_count": null,
   "metadata": {},
   "outputs": [],
   "source": [
    "# Answer of Problem \n",
    "import math\n",
    "b = float(input('Enter the length of a side(b) of the right triangle: '))\n",
    "BAC = float(input('Enter the degree of the angle(BAC): '))\n",
    "if (b<=0) or (BAC<0) or (BAC>=90):\n",
    "    print('Incorrect input.')\n",
    "else:\n",
    "    print(b/math.cos(BAC*(math.pi)/180))"
   ]
  }
 ],
 "metadata": {
  "kernelspec": {
   "display_name": "Python 3",
   "language": "python",
   "name": "python3"
  },
  "language_info": {
   "codemirror_mode": {
    "name": "ipython",
    "version": 3
   },
   "file_extension": ".py",
   "mimetype": "text/x-python",
   "name": "python",
   "nbconvert_exporter": "python",
   "pygments_lexer": "ipython3",
   "version": "3.7.4"
  }
 },
 "nbformat": 4,
 "nbformat_minor": 2
}
