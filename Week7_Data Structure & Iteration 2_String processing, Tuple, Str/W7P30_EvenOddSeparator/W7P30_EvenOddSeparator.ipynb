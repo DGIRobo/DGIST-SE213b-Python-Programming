{
 "cells": [
  {
   "cell_type": "markdown",
   "metadata": {},
   "source": [
    "# <span style='font-family:Times New Roman'> WEEK 7 - PROBLEM 30: Even Odd Separator\n",
    "<hr>\n",
    "<br>\n",
    "    \n",
    "### <span style='font-family:Times New Roman'> Description\n",
    "```Bash\n",
    "리스트 하나를 입력으로 받고 리스트의 원소 값을 비교하여 다음을 리턴하는 함수 list_even_odd(original_list)를 만드시오.\n",
    "```\n",
    "<br>\n",
    "\n",
    "> ##### <li> <span style='font-family:Times New Roman'> 함수의 동작 </li>\n",
    "```Bash\n",
    "original_list를 받아서 다음을 계산하여 반환하는 함수\n",
    "   - 리스트의 원소 중 짝수인 원소의 개수\n",
    "   - 리스트의 원소 중 홀수인 원소의 개수\n",
    "   - 원래 리스트에서 짝수인 원소만 가지는 정렬된 리스트\n",
    "   - 원래 리스트에서 홀수인 원소만 가지는 정렬된 리스트\n",
    "```\n",
    "\n",
    "> ##### <li> <span style='font-family:Times New Roman'> 매개변수 </li>\n",
    "```Bash\n",
    "original_list:(list) 숫자가 들어있는 리스트\n",
    "```\n",
    "    \n",
    "> ##### <li> <span style='font-family:Times New Roman'> 반환값 </li>\n",
    "```Bash\n",
    "튜플의 첫번째 요소: (int) 주어진 리스트에서 짝수의 개수\n",
    "튜플의 두번째 요소: (int) 주어진 리스트에서 홀수의 개수\n",
    "튜플의 세번째 요소: (list) 주어진 리스트에서 짝수만 추출하여 만든 정렬된 리스트\n",
    "튜플의 네번째 요소: (list) 주어진 리스트에서 홀수만 추출하여 만든 정렬된 리스트\n",
    "```\n",
    "<hr>\n",
    "<br>\n",
    "    \n",
    "### <span style='font-family:Georgia'> Function usage example\n",
    "```Bash\n",
    "list = [20, 5, 31, 94, 61, 39]\n",
    "even_count, odd_count, even_list, odd_list = list_even_odd(list)\n",
    "print(even_count, odd_count, even_list, odd_list)\n",
    "```\n",
    "<hr>\n",
    "<br>\n",
    "\n",
    "### <span style='font-family:Georgia'> Function Running Example\n",
    "```Bash\n",
    "2 4 [20, 94] [5, 31, 39, 61]\n",
    "```"
   ]
  },
  {
   "cell_type": "code",
   "execution_count": null,
   "metadata": {},
   "outputs": [],
   "source": [
    "# Answer of Problem \n",
    "def list_even_odd(original_list):\n",
    "    sort_list=sorted(original_list)\n",
    "    odd_list=[]\n",
    "    even_list=[]\n",
    "    for val in sort_list:\n",
    "        if val%2 == 0:\n",
    "            even_list.append(val)\n",
    "        else: odd_list.append(val)\n",
    "    odd_count = len(odd_list)\n",
    "    even_count = len(even_list)\n",
    "    return even_count, odd_count, even_list, odd_list\n",
    "\n",
    "list = [20, 5, 31, 94, 61, 39]\n",
    "even_count, odd_count, even_list, odd_list = list_even_odd(list)\n",
    "print(even_count, odd_count, even_list, odd_list)\n"
   ]
  }
 ],
 "metadata": {
  "kernelspec": {
   "display_name": "Python 3",
   "language": "python",
   "name": "python3"
  },
  "language_info": {
   "codemirror_mode": {
    "name": "ipython",
    "version": 3
   },
   "file_extension": ".py",
   "mimetype": "text/x-python",
   "name": "python",
   "nbconvert_exporter": "python",
   "pygments_lexer": "ipython3",
   "version": "3.7.4"
  }
 },
 "nbformat": 4,
 "nbformat_minor": 2
}
