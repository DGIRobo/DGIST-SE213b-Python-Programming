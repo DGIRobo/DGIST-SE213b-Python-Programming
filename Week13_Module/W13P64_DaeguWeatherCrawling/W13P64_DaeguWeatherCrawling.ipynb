{
 "cells": [
  {
   "cell_type": "markdown",
   "metadata": {},
   "source": [
    "# <span style='font-family:Times New Roman'> WEEK 13 - PROBLEM 64:Get tomorrow's weather in Daegu from the Meteorological Administration site\n",
    "<hr>\n",
    "<br>\n",
    "    \n",
    "### <span style='font-family:Times New Roman'> Description\n",
    "```Bash\n",
    "기상청에서 제공하는 rss 로 부터 날짜와 지역을 넣어서 날씨를 가져오는 함수 getForecast(loc, day)를 작성하시오.\n",
    "```\n",
    "<hr>\n",
    "<br>\n",
    "\n",
    "### <span style='font-family:Georgia'> getForecast(loc, day) 함수\n",
    "<br>\n",
    "    \n",
    "> ##### <li> <span style='font-family:Georgia'> 매개변수 </li>\n",
    "```Bash\n",
    "loc: (문자열) 도시이름\n",
    "day: (문자열) 2020-05-28 와 같은 형식\n",
    "```\n",
    "\n",
    "> ##### <li> <span style='font-family:Georgia'> 반환값 </li>\n",
    "```Bash\n",
    "기상 예보 (예: 맑음)\n",
    "```\n",
    "\n",
    "> ##### <li> <span style='font-family:Georgia'> 함수의 동작 </li>\n",
    "```Bash\n",
    "기상예보에서 해당 날짜와 지역의 날씨를 가져와서 반환함\n",
    "전국 기상 중기예보: https://www.weather.go.kr/weather/forecast/mid-term-rss3.jsp?stnId=108\n",
    "```\n",
    "<hr>\n",
    "<br>\n",
    "\n",
    "### <span style='font-family:Georgia'> Function Usage Example\n",
    "```Bash\n",
    "print(getForecast(\"대구\", \"2020-05-28\")\n",
    "```\n",
    "<hr>\n",
    "<br>\n",
    "\n",
    "### <span style='font-family:Georgia'> Function Running Example\n",
    "```Bash\n",
    "맑음\n",
    "```"
   ]
  },
  {
   "cell_type": "code",
   "execution_count": 1,
   "metadata": {},
   "outputs": [
    {
     "ename": "ValueError",
     "evalue": "'\\t\\t\\t\\t\\t<tmEf>2020-05-28 00:00</tmEf>' is not in list",
     "output_type": "error",
     "traceback": [
      "\u001b[1;31m---------------------------------------------------------------------------\u001b[0m",
      "\u001b[1;31mValueError\u001b[0m                                Traceback (most recent call last)",
      "\u001b[1;32m<ipython-input-1-7fb677fb9ebb>\u001b[0m in \u001b[0;36m<module>\u001b[1;34m\u001b[0m\n\u001b[0;32m     14\u001b[0m \u001b[1;33m\u001b[0m\u001b[0m\n\u001b[0;32m     15\u001b[0m \u001b[1;32mif\u001b[0m \u001b[0m__name__\u001b[0m \u001b[1;33m==\u001b[0m \u001b[1;34m'__main__'\u001b[0m\u001b[1;33m:\u001b[0m\u001b[1;33m\u001b[0m\u001b[1;33m\u001b[0m\u001b[0m\n\u001b[1;32m---> 16\u001b[1;33m     \u001b[0mprint\u001b[0m\u001b[1;33m(\u001b[0m\u001b[0mgetForecast\u001b[0m\u001b[1;33m(\u001b[0m\u001b[1;34m\"대구\"\u001b[0m\u001b[1;33m,\u001b[0m \u001b[1;34m\"2020-05-28\"\u001b[0m\u001b[1;33m)\u001b[0m\u001b[1;33m)\u001b[0m\u001b[1;33m\u001b[0m\u001b[1;33m\u001b[0m\u001b[0m\n\u001b[0m",
      "\u001b[1;32m<ipython-input-1-7fb677fb9ebb>\u001b[0m in \u001b[0;36mgetForecast\u001b[1;34m(loc, day)\u001b[0m\n\u001b[0;32m     10\u001b[0m             \u001b[0mday_data\u001b[0m \u001b[1;33m=\u001b[0m \u001b[0mlocation_data\u001b[0m\u001b[1;33m[\u001b[0m\u001b[0mlocation_data\u001b[0m\u001b[1;33m.\u001b[0m\u001b[0mindex\u001b[0m\u001b[1;33m(\u001b[0m\u001b[1;34m'\\t\\t\\t\\t\\t<tmEf>'\u001b[0m\u001b[1;33m+\u001b[0m\u001b[0mday\u001b[0m\u001b[1;33m+\u001b[0m\u001b[1;34m' 12:00</tmEf>'\u001b[0m\u001b[1;33m)\u001b[0m\u001b[1;33m:\u001b[0m\u001b[1;33m]\u001b[0m\u001b[1;33m\u001b[0m\u001b[1;33m\u001b[0m\u001b[0m\n\u001b[0;32m     11\u001b[0m         \u001b[1;32melse\u001b[0m\u001b[1;33m:\u001b[0m\u001b[1;33m\u001b[0m\u001b[1;33m\u001b[0m\u001b[0m\n\u001b[1;32m---> 12\u001b[1;33m             \u001b[0mday_data\u001b[0m \u001b[1;33m=\u001b[0m \u001b[0mlocation_data\u001b[0m\u001b[1;33m[\u001b[0m\u001b[0mlocation_data\u001b[0m\u001b[1;33m.\u001b[0m\u001b[0mindex\u001b[0m\u001b[1;33m(\u001b[0m\u001b[1;34m'\\t\\t\\t\\t\\t<tmEf>'\u001b[0m\u001b[1;33m+\u001b[0m\u001b[0mday\u001b[0m\u001b[1;33m+\u001b[0m\u001b[1;34m' 00:00</tmEf>'\u001b[0m\u001b[1;33m)\u001b[0m\u001b[1;33m:\u001b[0m\u001b[1;33m]\u001b[0m\u001b[1;33m\u001b[0m\u001b[1;33m\u001b[0m\u001b[0m\n\u001b[0m\u001b[0;32m     13\u001b[0m         \u001b[1;32mreturn\u001b[0m \u001b[0mday_data\u001b[0m\u001b[1;33m[\u001b[0m\u001b[1;36m1\u001b[0m\u001b[1;33m]\u001b[0m\u001b[1;33m.\u001b[0m\u001b[0mstrip\u001b[0m\u001b[1;33m(\u001b[0m\u001b[1;34m'\\t</wf>'\u001b[0m\u001b[1;33m)\u001b[0m\u001b[1;33m\u001b[0m\u001b[1;33m\u001b[0m\u001b[0m\n\u001b[0;32m     14\u001b[0m \u001b[1;33m\u001b[0m\u001b[0m\n",
      "\u001b[1;31mValueError\u001b[0m: '\\t\\t\\t\\t\\t<tmEf>2020-05-28 00:00</tmEf>' is not in list"
     ]
    }
   ],
   "source": [
    "# Answer of Problem \n",
    "from urllib.request import urlopen\n",
    "import re\n",
    "\n",
    "def getForecast(loc, day):\n",
    "    with urlopen('https://www.weather.go.kr/weather/forecast/mid-term-rss3.jsp?stnId=108') as f:\n",
    "        allTxt = f.read().decode('utf-8').splitlines()\n",
    "        location_data = allTxt[allTxt.index('\\t\\t\\t\\t<city>'+loc+'</city>'):]\n",
    "        if '\\t\\t\\t\\t\\t<tmEf>'+day+' 12:00</tmEf>' in location_data:\n",
    "            day_data = location_data[location_data.index('\\t\\t\\t\\t\\t<tmEf>'+day+' 12:00</tmEf>'):]\n",
    "        else:\n",
    "            day_data = location_data[location_data.index('\\t\\t\\t\\t\\t<tmEf>'+day+' 00:00</tmEf>'):]\n",
    "        return day_data[1].strip('\\t</wf>')\n",
    "\n",
    "if __name__ == '__main__':\n",
    "    print(getForecast(\"대구\", \"2020-05-28\"))\n"
   ]
  }
 ],
 "metadata": {
  "kernelspec": {
   "display_name": "Python 3",
   "language": "python",
   "name": "python3"
  },
  "language_info": {
   "codemirror_mode": {
    "name": "ipython",
    "version": 3
   },
   "file_extension": ".py",
   "mimetype": "text/x-python",
   "name": "python",
   "nbconvert_exporter": "python",
   "pygments_lexer": "ipython3",
   "version": "3.7.4"
  }
 },
 "nbformat": 4,
 "nbformat_minor": 2
}
