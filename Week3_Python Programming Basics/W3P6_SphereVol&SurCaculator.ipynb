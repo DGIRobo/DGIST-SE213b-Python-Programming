{
 "cells": [
  {
   "cell_type": "markdown",
   "metadata": {},
   "source": [
    "# <span style='font-family:Times New Roman'> WEEK 3 - PROBLEM 6: Sphere Vol & Sur Caculator\n",
    "<hr>\n",
    "<br>\n",
    "    \n",
    "### <span style='font-family:Times New Roman'> Description\n",
    "```Bash\n",
    "사용자에게 반지름의 길이를 입력 받아 그 반지름의 길이를 가지는 구의 부피와 겉넓이를 출력할것. \n",
    "pi의 값은 3.141592 또는 그에 근접한 값으로 설정할 수 있다. \n",
    "첫 번째 줄 마지막에는 구의 부피가, 두번째 줄 마지막에는 구의 겉넓이가 출력되어야 하며 공백으로 구분되어야 한다.\n",
    "```\n",
    "<hr>\n",
    "<br>\n",
    "\n",
    "### <span style='font-family:Georgia'> Code Running Example\n",
    "```Bash\n",
    "Enter the radius of a sphere: 12.3\n",
    "The volume of the sphere: 7794.779840352002\n",
    "The surface area of the sphere: 1901.1658147200003\n",
    "```"
   ]
  },
  {
   "cell_type": "code",
   "execution_count": null,
   "metadata": {},
   "outputs": [],
   "source": [
    "# Answer of Problem \n",
    "radius = float(input('Enter the radius of a sphere: '))\n",
    "volume = (4/3)*(3.141592)*(radius)*(radius)*(radius)\n",
    "surface = 4*(3.141592)*(radius)*(radius)\n",
    "print('The volume of the sphere: ',volume)\n",
    "print('The surface area of the sphere: ', surface)"
   ]
  }
 ],
 "metadata": {
  "kernelspec": {
   "display_name": "Python 3",
   "language": "python",
   "name": "python3"
  },
  "language_info": {
   "codemirror_mode": {
    "name": "ipython",
    "version": 3
   },
   "file_extension": ".py",
   "mimetype": "text/x-python",
   "name": "python",
   "nbconvert_exporter": "python",
   "pygments_lexer": "ipython3",
   "version": "3.7.4"
  }
 },
 "nbformat": 4,
 "nbformat_minor": 2
}
