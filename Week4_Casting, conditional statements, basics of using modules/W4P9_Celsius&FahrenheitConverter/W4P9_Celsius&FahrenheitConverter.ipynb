{
 "cells": [
  {
   "cell_type": "markdown",
   "metadata": {},
   "source": [
    "# <span style='font-family:Times New Roman'> WEEK 4 - PROBLEM 9: Celsius&Fahrenheit Converter\n",
    "<hr>\n",
    "<br>\n",
    "    \n",
    "### <span style='font-family:Times New Roman'> Description\n",
    "```Bash\n",
    "섭씨에서 화씨, 혹은 그 반대로 온도 변환을 하는 프로그램을 작성하시오.\n",
    "\n",
    "먼저 온도(실수의 값을 처리할 수 있어야 함), 그리고 그 온도의 종류를 입력받고('c' 혹은 'C'를 입력하면 섭씨, 'f' 또는 'F'를 입력하면 화씨), 섭씨이면 화씨로 아니면 반대로 변경하는 프로그램을 작성하시오.\n",
    "\n",
    "온도의 종류에 대한 입력값이 정확하지 않은 경우, 문자열 'Error in the kind of temperature scale!'을 출력하시오.\n",
    "\n",
    "주의: 대소문자 모두 처리되도록 할 것. 그리고 입력받는 온도의 종류는 입력받은 온도가 섭씨 혹은 화씨임을 의미함.\n",
    "```\n",
    "<hr>\n",
    "<br>\n",
    "\n",
    "### <span style='font-family:Georgia'> Code Running Example 1\n",
    "```Bash\n",
    "Enter a degree: 10\n",
    "Enter the kind of temperature scale: c\n",
    "50.0\n",
    "```\n",
    "<hr>\n",
    "<br>\n",
    "\n",
    "### <span style='font-family:Georgia'> Code Running Example 2\n",
    "```Bash\n",
    "Enter a degree: 50\n",
    "Enter the kind of temperature scale: F\n",
    "10.0\n",
    "```\n",
    "<hr>\n",
    "<br>\n",
    "\n",
    "### <span style='font-family:Georgia'> Code Running Example 3\n",
    "```Bash\n",
    "Enter a degree: 10\n",
    "Enter the kind of temperature scale: cc\n",
    "Error in the kind of temperature scale!\n",
    "```"
   ]
  },
  {
   "cell_type": "code",
   "execution_count": null,
   "metadata": {},
   "outputs": [],
   "source": [
    "# Answer of Problem \n",
    "degree = float(input('Enter a degree: '))\n",
    "scale = input('Enter the kind of temperature scale: ')\n",
    "\n",
    "if (scale == 'C') or (scale == 'c'):\n",
    "    Fahrenheit = degree*9/5+32\n",
    "    print(Fahrenheit)\n",
    "elif (scale == 'F') or (scale == 'f'):\n",
    "    Celsius = (degree-32)*5/9\n",
    "    print(Celsius)\n",
    "else:\n",
    "    print('Error in the kind of temperature scale!')"
   ]
  }
 ],
 "metadata": {
  "kernelspec": {
   "display_name": "Python 3",
   "language": "python",
   "name": "python3"
  },
  "language_info": {
   "codemirror_mode": {
    "name": "ipython",
    "version": 3
   },
   "file_extension": ".py",
   "mimetype": "text/x-python",
   "name": "python",
   "nbconvert_exporter": "python",
   "pygments_lexer": "ipython3",
   "version": "3.7.4"
  }
 },
 "nbformat": 4,
 "nbformat_minor": 2
}
