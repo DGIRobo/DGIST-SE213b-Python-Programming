{
 "cells": [
  {
   "cell_type": "markdown",
   "metadata": {},
   "source": [
    "# <span style='font-family:Times New Roman'> Assignment 1 - PROBLEM 3: String Replacer V2\n",
    "<hr>\n",
    "<br>\n",
    "    \n",
    "### <span style='font-family:Times New Roman'> Description\n",
    "```Bash\n",
    "문자열과 치환 하고자 하는 문자열을 입력 받아서 치환된 문자열을 반환하는 함수replaced(original_str, old_str, new_str, cnt)를 구현하시오.\n",
    "```\n",
    "<br>\n",
    "    \n",
    "> ##### <li> <span style='font-family:Times New Roman'> 함수동작 </li>\n",
    "```Bash\n",
    "치환하고자 하는 문자열 original_str을 매개변수로 받음\n",
    "origianl_str의 앞에서부터 old_str을 찾아서 new_str로 치환\n",
    "주의: 치환은 cnt만큼만 수행하고 cnt가 -1인 경우는 모든 old_str을 치환함\n",
    "```\n",
    "\n",
    "> ##### <li> <span style='font-family:Times New Roman'> 매개변수 </li>\n",
    "```Bash\n",
    "original_str: 치환하고자 하는 문자열\n",
    "old_str: (str) original_str에서 바꾸고자 하는 문자열\n",
    "new_str: (str) old_str을 치환할 문자열\n",
    "cnt: (int : 기본값 -1로 지정) 치환할 횟수\n",
    "```\n",
    "\n",
    "> ##### <li> <span style='font-family:Times New Roman'> 반환값 </li>\n",
    "```Bash\n",
    "(str) original_str에서 old_str을 찾아서 new_str로 cnt만큼 치환하여 만든 문자열\n",
    "```\n",
    "<hr>\n",
    "<br>\n",
    "\n",
    "### <span style='font-family:Georgia'> Function Usage Example\n",
    "```Bash\n",
    "orig = \"The apple is delicious. The apple is red.\"\n",
    "print(replaced(orig, \"apple\", \"tomato\"))\n",
    "print(replaced(orig, \"apple\", \"banana\", 1))\n",
    "```\n",
    "<hr>\n",
    "<br>\n",
    "    \n",
    "### <span style='font-family:Georgia'> Function Running Example\n",
    "```Bash\n",
    "The tomato is delicious. The tomato is red.\n",
    "The banana is delicious. The apple is red.\n",
    "```"
   ]
  },
  {
   "cell_type": "code",
   "execution_count": 1,
   "metadata": {},
   "outputs": [
    {
     "name": "stdout",
     "output_type": "stream",
     "text": [
      "The tomato is delicious. The tomato is red.\n",
      "The banana is delicious. The banana is red.\n"
     ]
    }
   ],
   "source": [
    "# Answer of Problem \n",
    "def replaced(original_str, old_str, new_str, cnt = -1):\n",
    "    count = 0\n",
    "    str_making = original_str\n",
    "    for alphabet in range(len(str_making)):\n",
    "        if str_making[alphabet:alphabet + len(old_str)] == old_str:\n",
    "            str_making = str_making[:alphabet] + new_str + str_making[alphabet + len(old_str):]\n",
    "            count=count+1\n",
    "            if cnt == -1: continue\n",
    "            elif count == cnt: break\n",
    "\n",
    "    if count < cnt:\n",
    "        return \"There aren't \" + old_str + \" three times!\"\n",
    "\n",
    "    return str_making\n",
    "\n",
    "orig = \"The apple is delicious. The apple is red.\"\n",
    "print(replaced(orig, \"apple\", \"tomato\"))\n",
    "print(replaced(orig, \"apple\", \"banana\", 2))\n"
   ]
  }
 ],
 "metadata": {
  "kernelspec": {
   "display_name": "Python 3",
   "language": "python",
   "name": "python3"
  },
  "language_info": {
   "codemirror_mode": {
    "name": "ipython",
    "version": 3
   },
   "file_extension": ".py",
   "mimetype": "text/x-python",
   "name": "python",
   "nbconvert_exporter": "python",
   "pygments_lexer": "ipython3",
   "version": "3.7.4"
  }
 },
 "nbformat": 4,
 "nbformat_minor": 2
}
