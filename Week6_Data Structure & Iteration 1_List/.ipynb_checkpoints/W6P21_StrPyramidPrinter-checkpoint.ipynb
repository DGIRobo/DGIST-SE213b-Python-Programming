{
 "cells": [
  {
   "cell_type": "markdown",
   "metadata": {},
   "source": [
    "# <span style='font-family:Times New Roman'> WEEK 6 - PROBLEM 21: Str Pyramid Printer\n",
    "<hr>\n",
    "<br>\n",
    "    \n",
    "### <span style='font-family:Times New Roman'> Description\n",
    "```Bash\n",
    "문자열 삼각형을 출력하는 print_pyramid(n)을 만드시오.\n",
    "```\n",
    "<br>\n",
    "\n",
    "> ##### <li> <span style='font-family:Times New Roman'> 함수의 동작 </li>\n",
    "```Bash\n",
    "문자열 삼각형은 n줄만큼 출력하면서, 각 줄에 '*' 를 1, 2, ..., n개씩 출력할 것\n",
    "```\n",
    "\n",
    "> ##### <li> <span style='font-family:Times New Roman'> 매개변수 </li>\n",
    "```Bash\n",
    "n: (int) 출력할 줄 수\n",
    "```\n",
    "    \n",
    "> ##### <li> <span style='font-family:Times New Roman'> 반환값 </li>\n",
    "```Bash\n",
    "없음(None)\n",
    "```\n",
    "<hr>\n",
    "<br>\n",
    "    \n",
    "### <span style='font-family:Georgia'> Function usage example\n",
    "```Bash\n",
    "print('First pyramid')\n",
    "print_pyramid(5)\n",
    "print('Second pyramid')\n",
    "print_pyramid(3)\n",
    "```\n",
    "<hr>\n",
    "<br>\n",
    "\n",
    "### <span style='font-family:Georgia'> Function Running Example\n",
    "```Bash\n",
    "First pyramid\n",
    "*\n",
    "**\n",
    "***\n",
    "****\n",
    "*****\n",
    "Second pyramid\n",
    "*\n",
    "**\n",
    "***\n",
    "```"
   ]
  },
  {
   "cell_type": "code",
   "execution_count": null,
   "metadata": {},
   "outputs": [],
   "source": [
    "# Answer of Problem \n",
    "def print_pyramid(n):\n",
    "    for row in range(n):\n",
    "        for column in range(row+1):\n",
    "            print('*', end='')\n",
    "        print('')\n",
    "\n",
    "print('First pyramid')\n",
    "print_pyramid(5)\n",
    "print('Second pyramid')\n",
    "print_pyramid(3)"
   ]
  }
 ],
 "metadata": {
  "kernelspec": {
   "display_name": "Python 3",
   "language": "python",
   "name": "python3"
  },
  "language_info": {
   "codemirror_mode": {
    "name": "ipython",
    "version": 3
   },
   "file_extension": ".py",
   "mimetype": "text/x-python",
   "name": "python",
   "nbconvert_exporter": "python",
   "pygments_lexer": "ipython3",
   "version": "3.7.4"
  }
 },
 "nbformat": 4,
 "nbformat_minor": 2
}
